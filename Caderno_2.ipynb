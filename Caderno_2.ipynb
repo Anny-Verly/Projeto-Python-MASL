{
  "nbformat": 4,
  "nbformat_minor": 0,
  "metadata": {
    "colab": {
      "provenance": [],
      "toc_visible": true,
      "include_colab_link": true
    },
    "kernelspec": {
      "name": "python3",
      "display_name": "Python 3"
    },
    "language_info": {
      "name": "python"
    }
  },
  "cells": [
    {
      "cell_type": "markdown",
      "metadata": {
        "id": "view-in-github",
        "colab_type": "text"
      },
      "source": [
        "<a href=\"https://colab.research.google.com/github/Anny-Verly/Projeto-Python-MASL/blob/main/Caderno_2.ipynb\" target=\"_parent\"><img src=\"https://colab.research.google.com/assets/colab-badge.svg\" alt=\"Open In Colab\"/></a>"
      ]
    },
    {
      "cell_type": "markdown",
      "source": [
        "#  <center>  </center>\n",
        "\n",
        "# <center> Caderno 2\n",
        "# <center> Representações Matemáticas de Sistemas de Controle </center>"
      ],
      "metadata": {
        "id": "tBGXab9hrtjp"
      }
    },
    {
      "cell_type": "markdown",
      "source": [
        "\n",
        "##2.1 Sistemas Lineares e Invariantes no Tempo\n",
        "\n",
        "A classe particular de sistemas que possuem características de linearidade e invariância temporal podem ser representadas por modelos Lineares e Invariantes no Tempo (L.I.T) [[7]](#ref7). Dessa forma, podem-se destacar as três principais formas de representação de modelos contínuos L.I.T [[2]](#ref2):\n",
        "\n",
        "* Equações Diferenciais Ordinárias (E.D.Os).\n",
        "\n",
        "* Função de Transferência.\n",
        "\n",
        "* Modelo em Espaço de Estados.\n",
        "\n",
        "\n",
        "A [Figura 2.1](#fig21) apresenta as relações de transformações de modelos no domínio do tempo para o domínio da frequência. Pode-se notar que quando $x(t)$ é um impulso, $y(t)$ é a resposta ao impulso do sistema, logo $H(s)$, que descreve a F.T, é a resposta ao impulso do sistema. As próximas seções são dedicadas a realizar essas representações de forma computacional, utilizando o Colab.\n",
        "\n",
        "<center>   \n",
        "<p align=\"center\">\n",
        "<img src=\"https://github.com/Anny-Verly/Projeto-Python-MASL/blob/main/Imagens_Caderno_2/Figura%202.1.jpg?raw=true\"\n",
        "width=\"600\" height=\"\" style=\"display: block; margin: 0 auto\" />\n",
        "</p>  Figura 2.1 </center>\n"
      ],
      "metadata": {
        "id": "dbPRU1RK1mO_"
      }
    },
    {
      "cell_type": "markdown",
      "source": [
        "Conforme mencionado, em  Python, a biblioteca que possui as operações típicas de Sistemas de Controle é a [PYTHON-CONTROL](https://python-control.readthedocs.io/en/0.10.0/). Para utilizar as funções disponíveis basta realizar o comando:\n",
        "<center>\n",
        "\n",
        "```\n",
        "ctl.função\n",
        "```"
      ],
      "metadata": {
        "id": "pRRagtNYNhRb"
      }
    },
    {
      "cell_type": "markdown",
      "source": [
        "<a name=\"sec22\"></a>\n",
        "##2.2 Representação em Função de Transferência\n",
        "\n",
        "Em um sistema LIT, a Função de Transferência (FT) é a relação matemática entre a entrada e a saída no domínio da frequência com condições iniciais nulas [[1]](#ref1). Em Python, o comando <$tf$> é utilizado para gerar uma FT.  Deve-se declarar $s$ como uma variável simbólica, e o numerador e  denominador da FT na forma da vetor:"
      ],
      "metadata": {
        "id": "Afw1bYAo-wdJ"
      }
    },
    {
      "cell_type": "code",
      "source": [
        "pip install control\n"
      ],
      "metadata": {
        "collapsed": true,
        "id": "URm3wadVmgZU"
      },
      "execution_count": null,
      "outputs": []
    },
    {
      "cell_type": "code",
      "source": [
        "import control as ctl\n",
        "s = ctl.tf('s')\n",
        "numerador = [1]\n",
        "denominador = [1.0, 2]\n",
        "H_s= ctl.tf(numerador, denominador)\n",
        "print(H_s)"
      ],
      "metadata": {
        "id": "gZUSmsKRm-5k",
        "colab": {
          "base_uri": "https://localhost:8080/"
        },
        "outputId": "4ef6e0f0-efea-4479-8b41-d924224e01ba"
      },
      "execution_count": 2,
      "outputs": [
        {
          "output_type": "stream",
          "name": "stdout",
          "text": [
            "<TransferFunction>: sys[0]\n",
            "Inputs (1): ['u[0]']\n",
            "Outputs (1): ['y[0]']\n",
            "\n",
            "\n",
            "  1\n",
            "-----\n",
            "s + 2\n",
            "\n"
          ]
        }
      ]
    },
    {
      "cell_type": "markdown",
      "source": [
        "<p align=\"justify\"> Também, é possível definir a FT na forma de expressão matemática:"
      ],
      "metadata": {
        "id": "inTh-8w7ry8a"
      }
    },
    {
      "cell_type": "code",
      "source": [
        "numerador = 1   # Numerador da FT\n",
        "denominador = s+2 # Denominador da FT\n",
        "H_s = numerador/denominador\n",
        "print(H_s)"
      ],
      "metadata": {
        "id": "gEKHUV2gr0sa"
      },
      "execution_count": null,
      "outputs": []
    },
    {
      "cell_type": "markdown",
      "source": [
        "<a name=\"ex21\"></a>\n",
        "### Exemplo 2.1:\n",
        "\n",
        "<p align=\"justify\"> Neste exemplo deseja-se realizar a modelagem de um circuito RLC (filtro passa\n",
        "baixa passivo), mostrado na Figura 2.2, de modo a obter a EDO e a FT que o representam.\n",
        "\n",
        "<a name=\"fig22\"></a>\n",
        "<center>   \n",
        "\n",
        "   \n",
        "<p align=\"center\">\n",
        "<img src=\"https://github.com/Anny-Verly/Projeto-Python-MASL/blob/main/Imagens_Caderno_2/Figura%202.2.jpg?raw=true\"\n",
        "width=\"600\" height=\"\" style=\"display: block; margin: 0 auto\" />\n",
        "</p> Figura 2.2 </center>\n",
        "\n",
        "Dados:\n",
        "\n",
        "* $ V_{in}(t) = A.sen(2.\\pi.f.t); $\n",
        "* $ A = 1.0 [V]; f = 10^4 Hz; R = 10Ω; L = 10^{−3}H; C = 10^{−6}F $\n",
        "<p align =\"right\">(2.1)</p>\n",
        "\n",
        "A relação entre a entrada e a saída do circuito da [Figura 2.2](#fig22) é dada por:\n",
        "\n",
        "$$ \\frac{d^2Vout(t)}{dt^2} = \\frac{V_{in}(t) - V_{out}(t) - \\frac{L}{R} \\frac{dVout(t)}{dt} }{LC} $$\n",
        "<p align =\"right\">(2.2)</p>\n",
        "\n",
        "Ao isolar a tensão de entrada, obtém-se:\n",
        "\n",
        "$$ V_{in}(t) = V_{out}(t) + \\frac{dVout(t)}{dt} + LC \\frac{d^2Vout(t)}{dt^2}$$\n",
        "<p align =\"right\">(2.3)</p>\n",
        "\n",
        "<p align=\"justify\"> A FT é obtida aplicando a Transformada de Laplace de ambos os lados da equação anterior e isolando os termos de acordo com:\n",
        "\n",
        "$$ \\frac{V_{out}(s)}{V_{in}(s)} = \\frac{1}{1 + \\frac{L}{R} + LCs^2 } $$\n",
        "\n",
        "O algoritmo implementado em Python para declarar a FT pode ser executado no código a seguir."
      ],
      "metadata": {
        "id": "JxCOXCfVmhGc"
      }
    },
    {
      "cell_type": "code",
      "source": [
        "# Definindo a variável s como simbólica\n",
        "s = ctl.tf('s')\n",
        "# Dados do problema:\n",
        "A = 1.0;\n",
        "f = 1e+4;\n",
        "R = 10;   # Resistor [Ohm]\n",
        "L = 1e-3; # Indutor [H]\n",
        "C = 1e-6; # Capacitor [F]\n",
        "num = 1   # Numerador da FT\n",
        "den = 1 + (L/R)*s + L*C*s**2 # Denominador da FT\n",
        "FT = num / den\n",
        "print(FT)"
      ],
      "metadata": {
        "id": "ifdYM4hOIvyf",
        "colab": {
          "base_uri": "https://localhost:8080/"
        },
        "outputId": "d132200a-5be2-463e-a3da-8847e272b7f2"
      },
      "execution_count": null,
      "outputs": [
        {
          "output_type": "stream",
          "name": "stdout",
          "text": [
            "<TransferFunction>: sys[88]\n",
            "Inputs (1): ['u[0]']\n",
            "Outputs (1): ['y[0]']\n",
            "\n",
            "\n",
            "           1\n",
            "------------------------\n",
            "1e-09 s^2 + 0.0001 s + 1\n",
            "\n"
          ]
        }
      ]
    },
    {
      "cell_type": "markdown",
      "source": [
        "###2.2.1 Função de Transferência de Sistemas em Cascata\n",
        "\n",
        "Sistemas mais complexos são compostos por diversos subsistemas. Quando estes\n",
        "subsistemas estão conectados em série, os mesmos são denominados como sistemas em cascata [[1]](#ref1). A Figura 2.3 mostra esse tipo de operação.\n",
        "\n",
        "<center>   \n",
        "<p align=\"center\">\n",
        "<img src=\"https://github.com/Anny-Verly/Projeto-Python-MASL/blob/main/Imagens_Caderno_2/Figura%202.3.jpg?raw=true\"\n",
        "width=\"600\" height=\"\" style=\"display: block; margin: 0 auto\" />\n",
        "</p>  Figura 2.3 </center>"
      ],
      "metadata": {
        "id": "jxMCy8X0JKnr"
      }
    },
    {
      "cell_type": "markdown",
      "source": [
        "Sabe-se que as FT’s individuais são dadas por:\n",
        "\n",
        "$$ G_1(s) = \\frac{X_2(s)}{X_1(s)} ; G_2(s) = \\frac{X_3(s)}{X_2(s)} G_3(s) = \\frac{X_4(s)}{X_3(s)} ; $$\n",
        "\n",
        "E a FT resultante de todo o sistema é dada pela Equação 2.4\n",
        "\n",
        "$$ G(s) = \\frac{X_4(s)}{X_1(s)} = \\frac{X_2(s).X_3(s).X_4(s)}{X_1(s).X_2(s).X_3(s)} = G_1(s).G_2(s).G_3(s). $$\n",
        "<p align =\"right\">(2.4)</p>\n",
        "\n",
        "<p align=\"justify\"> Ou seja, a FT de um sistema constituído pela cascata de subsistemas nada mais é\n",
        "que o produto das FTs de cada subsistema. Sendo assim, no Python utiliza-se o operador '*', conforme exemplificado abaixo:\n",
        "\n",
        "\n",
        "$$ FT = FT_1*FT_2*FT_3* \\cdots *FT_N $$"
      ],
      "metadata": {
        "id": "-NDIIM_iJc20"
      }
    },
    {
      "cell_type": "markdown",
      "source": [
        "###2.2.2 Função de Transferência de Sistemas em Paralelo\n",
        "Uma outra configuração muito comum é a paralela. Os subsistemas em paralelo\n",
        "possuem uma entrada comum e uma saída composta pela soma algébrica das saídas de\n",
        "todos subsistemas [[1]](#ref1). A Figura 2.4 ilustra esse tipo de configuração.\n",
        "\n",
        "<center>   \n",
        "<p align=\"center\">\n",
        "<img src=\"https://github.com/Anny-Verly/Projeto-Python-MASL/blob/main/Imagens_Caderno_2/Figura%202.4.png?raw=true\"\n",
        "width=\"600\" height=\"\" style=\"display: block; margin: 0 auto\" />\n",
        "</p>  Figura 2.4 </center>\n",
        "\n",
        "\n",
        " <p align=\"justify\"> A FT resultante é representada por:\n",
        " <center>  \n",
        "\n",
        "\n",
        "$$ 𝐺(𝑠)=𝐺1(𝑠)±𝐺2(𝑠).$$\n",
        "<p align =\"right\">(2.5)</p>\n",
        "\n",
        " <p align=\"justify\"> Ou seja, a FT de um sistema constituído pela operação paralela de subsistemas nada mais é que a soma algébrica das FTs de cada subsistema. Sendo assim, em Python utilizam-se os operadores '+' ou '-', de acordo com:\n",
        "  <center>\n",
        "\n",
        "$$𝐹𝑇=𝐹𝑇1±𝐹𝑇2±𝐹𝑇3±⋯±𝐹𝑇𝑁. $$\n",
        "\n",
        "\n"
      ],
      "metadata": {
        "id": "u2rENNrsOsdG"
      }
    },
    {
      "cell_type": "markdown",
      "source": [
        "###2.2.3 Função de Transferência de Sistemas em Malha Fechada\n",
        "Um sistema em Malha Fechada (MF) usa uma medida do sinal de saída, Y(s), e a comparação com a saída desejada, X(s), para gerar um sinal de erro, Ea(s) que é usado pelo controlador para ajustar o atuador [[1]](#ref1). Esta operação pode ser vista na Figura 2.5\n",
        "\n",
        "<center>   \n",
        "<p align=\"center\">\n",
        "<img src=\"https://github.com/Anny-Verly/Projeto-Python-MASL/blob/main/Imagens_Caderno_2/Figura%202.5.jpg?raw=true\"\n",
        "width=\"600\" height=\"\" style=\"display: block; margin: 0 auto\" />\n",
        "</p>  Figura 2.5 </center>\n",
        "\n",
        "<p align=\"justify\"> A Função de Transferência em Malha Fechada (FTMF) é dada pela equação a seguir:\n",
        "\n",
        "$$ T(s) = \\frac{Y(s)}{X(s)} = \\frac{1}{1+G(s).H(s)} $$\n",
        "<p align =\"right\">(2.6)</p>\n",
        "\n",
        "<p align=\"justify\"> No Python, a forma de obter a FTMF é bem simples. Basta utilizar o seguinte comando:\n",
        "\n",
        "\n",
        "<center>\n",
        "\n",
        "```\n",
        " FTMF = ctl.feedback(G,H,-1)\n",
        "```\n",
        "\n",
        "<p align=\"justify\"> onde, $G$ e $H$ representam as Funções de Transferência de Ramo direto e de realimentação, respectivamente.\n",
        "\n",
        "\n",
        "\n"
      ],
      "metadata": {
        "id": "j2eRfiAJP7x-"
      }
    },
    {
      "cell_type": "markdown",
      "source": [
        "<a name=\"ex22\"></a>\n",
        "###Exemplo 2.2:\n",
        "\n",
        "<p align=\"justify\"> Utilizar o Python para a obtenção da FT resultante do sistema apresentado na Figura 2.6.\n",
        "\n",
        "<center>   \n",
        "<p align=\"center\">\n",
        "<img src=\"https://github.com/Anny-Verly/Projeto-Python-MASL/blob/main/Imagens_Caderno_2/Figura%202.6.jpg?raw=true\"\n",
        "width=\"800\" height=\"\" style=\"display: block; margin: 0 auto\" />\n",
        "</p>  Figura 2.6 </center>"
      ],
      "metadata": {
        "id": "IdvSObrOHdC4"
      }
    },
    {
      "cell_type": "markdown",
      "source": [
        "<p align=\"justify\"> $\\textbf{DICA}$: Subdividir o sistema em blocos e grupos para facilitar a implementação e a\n",
        "identificação dos mesmos.\n",
        "\n",
        "O código a seguir ilustra a solução do [Exemplo 2.2](#ex22)."
      ],
      "metadata": {
        "id": "hvqRWWZOHsfY"
      }
    },
    {
      "cell_type": "code",
      "source": [
        "# Exemplo 2.2:\n",
        "s = ctl.tf('s')\n",
        "\n",
        "# Funções de transferência de cada bloco - 1 ao 6\n",
        "num = 1\n",
        "den = s + 1\n",
        "FT1 = num/den                     # Bloco 1\n",
        "#-----------------------------------------\n",
        "num = s\n",
        "den = s**2 + 2\n",
        "FT2 = num/den                     # Bloco 2\n",
        "#-----------------------------------------\n",
        "num = 4*s + 2\n",
        "den = s**2 + 2*s + 1\n",
        "FT3 = num/den                     # Bloco 3\n",
        "#-----------------------------------------\n",
        "num = 1\n",
        "den = s**2\n",
        "FT4 = num/den                     # Bloco 4\n",
        "#-----------------------------------------\n",
        "num = 50\n",
        "den = s**0\n",
        "FT5 = num/den                     # Bloco 5\n",
        "#-----------------------------------------\n",
        "num = s**2 + 2\n",
        "den = s**3 + 14\n",
        "FT6 = num/den                     # Bloco 6\n",
        "#-----------------------------------------\n",
        "# Funções de transferência de cada grupo\n",
        "G = FT1*FT2\n",
        "H = FT3\n",
        "FTG1 = ctl.feedback(G,H,-1)       # Grupo 1\n",
        "#-----------------------------------------\n",
        "G = FT4\n",
        "H = FT5\n",
        "FTG2  = ctl.feedback(G,H,-1)      # Grupo 2\n",
        "#-----------------------------------------\n",
        "G = FTG1*FTG2\n",
        "H = FT6\n",
        "FTG3  = ctl.feedback(G,H,-1)      # Grupo 3\n",
        "#-----------------------------------------\n",
        "\n",
        "# Função de transferência final:\n",
        "K = 4 # ganho fora da malha\n",
        "FTFINAL = 4*FTG3\n",
        "print(FTFINAL)"
      ],
      "metadata": {
        "id": "MNCtrkbXH78c",
        "colab": {
          "base_uri": "https://localhost:8080/"
        },
        "outputId": "a5e4115b-c86d-4a35-e13d-deeb8c2d5d9d"
      },
      "execution_count": null,
      "outputs": [
        {
          "output_type": "stream",
          "name": "stdout",
          "text": [
            "<TransferFunction>: sys[138]\n",
            "Inputs (1): ['u[0]']\n",
            "Outputs (1): ['y[0]']\n",
            "\n",
            "\n",
            "                           4 s^6 + 8 s^5 + 4 s^4 + 56 s^3 + 112 s^2 + 56 s\n",
            "-----------------------------------------------------------------------------------------------------\n",
            "s^10 + 3 s^9 + 55 s^8 + 175 s^7 + 300 s^6 + 1323 s^5 + 2656 s^4 + 3715 s^3 + 7732 s^2 + 5602 s + 1400\n",
            "\n"
          ]
        }
      ]
    },
    {
      "cell_type": "markdown",
      "source": [
        "<a name=\"sec23\"></a>\n",
        "##2.3 Representação em Espaço de Estados\n",
        "A representação em Espaço de Estados (EE) de qualquer sistema LIT pode ser feita conforme mostrado na equação a seguir:\n",
        "\n",
        "\\begin{equation}\n",
        "\\dot{x}(t) = Ax(t) + Bu(t)\\\\\n",
        "\\dot{y}(t) = Cx(t) + Du(t),\n",
        "\\end{equation}\n",
        "<p align =\"right\">(2.7)</p>\n",
        "\n",
        "em que $x$ é o vetor de estados (uma coleção de todas as variáveis internas usadas para descrever a dinâmica do sistema em estudo), $y$ é o vetor de saída e $u$ é um vetor de entradas [[8]](#ref8).\n",
        "\n",
        "<p align=\"justify\"> Para realizar uma representação linear em espaço de estados no Python, utiliza-se a função $StateSpace$:\n",
        "\n",
        "<center>\n",
        "\n",
        "```\n",
        "modEE = ctl.StateSpace(A,B,C,D)\n",
        "```\n",
        "</center>\n",
        "\n",
        "em que,  $A$, $B$, $C$ e $D$ são matrizes constantes. O exemplo a seguir demonstra a representação do circuito RLC [Exemplo 2.1](#ex21) em  espaço de estados."
      ],
      "metadata": {
        "id": "fjR1zKCXIMyR"
      }
    },
    {
      "cell_type": "markdown",
      "source": [
        "<a name=\"ex23\"></a>\n",
        "###Exemplo 2.3:\n",
        "\n",
        "Para representar o circuito da [Figura 2.2](#fig22) em EE executam-se os seguintes passos:\n",
        "\n",
        "**1 – Escolha das Variáveis do Modelo:**\n",
        "\n",
        "a) Vetor de Estados: $ x = (I_L(t), V_c(t))$.\n",
        "\n",
        "b) Vetor de Entrada: $u = (Vin(t))$.\n",
        "\n",
        "c) Vetor de Saída: $u = (V_{out}(t))$.\n",
        "\n",
        "**2 – Escreva as equações dinâmicas associadas na forma de matrizes e vetores.**\n",
        "\n",
        "a) Para a corrente no indutor:\n",
        "\n",
        "$$ \\dot{I_L} = \\frac{1}{L}.V_L(t) = \\frac{1}{L}.(V_{in} - V_c(t)) = - \\frac{1}{L}.V_C(t) +\\frac{1}{L}.V_{in}(t) $$\n",
        "<p align =\"right\">(2.8)</p>\n",
        "\n",
        "b) Para a tensão no capacitor:\n",
        "\n",
        "$$ \\dot{V_C} = \\frac{1}{C}.I_C(t) = \\frac{1}{C}.(I_L - I_R(t)) = - \\frac{1}{C}.I_L(t) +\\frac{1}{RC}.I_{C}(t) $$\n",
        "<p align =\"right\">(2.9)</p>\n",
        "\n",
        "Desse modo\n",
        "\n",
        "$$\n",
        " \\begin{bmatrix}\n",
        "  \\dot{I_L}(t)  \\\\\n",
        "  \\dot{V_C}(t)  \\\\\n",
        " \\end{bmatrix}\n",
        " =\n",
        " \\begin{bmatrix}\n",
        "  0 & -\\frac{1}{L} \\\\\n",
        "  \\frac{1}{C} & -\\frac{1}{RC}\n",
        " \\end{bmatrix}\n",
        " .\n",
        " \\begin{bmatrix}\n",
        "  I_L(t) \\\\\n",
        "  V_C(t)\n",
        "\\end{bmatrix}\n",
        " +\n",
        "\\begin{bmatrix}\n",
        "\\frac{1}{L} \\\\\n",
        "  0\n",
        "\\end{bmatrix}\n",
        ".\n",
        "\\begin{bmatrix}\n",
        "V_{in}(t)\n",
        "\\end{bmatrix}\n",
        "$$\n",
        "<p align =\"right\">(2.10)</p>\n",
        "\n",
        "**3 – Escreva a equação de saída na forma de matrizes de vetores.**\n",
        "\n",
        "$$\n",
        "\\begin{bmatrix}\n",
        "V_{out}(t)\n",
        "\\end{bmatrix}\n",
        "=\n",
        "\\begin{bmatrix}\n",
        "0 & 1\n",
        "\\end{bmatrix}\n",
        ".\n",
        "\\begin{bmatrix}\n",
        "  I_L(t)  \\\\\n",
        "  V_C(t)  \\\\\n",
        "\\end{bmatrix}\n",
        "+\n",
        "\\begin{bmatrix}\n",
        "0\n",
        "\\end{bmatrix}\n",
        ".\n",
        "\\begin{bmatrix}\n",
        "V_{in}(t)\n",
        "\\end{bmatrix}\n",
        "$$\n",
        "<p align =\"right\">(2.11)</p>\n",
        "\n",
        "Os valores de R, L e são os mesmo do [Exemplo 2.1](#ex21). O código para geração do modelo em EE é descrito a seguir."
      ],
      "metadata": {
        "id": "COdaSCDgifhZ"
      }
    },
    {
      "cell_type": "code",
      "source": [
        "# Exemplo 2.3\n",
        "R = 10;   # Resistor [Ohm]\n",
        "L = 1e-3; # Indutor [H]\n",
        "C = 1e-6; # Capacitor [F]\n",
        "# Matrizes do Sistema\n",
        "A = np.array([ [0, -1/L], [1/C, -1/(R*C)] ])\n",
        "B = np.array([ [1/L], [0]])\n",
        "C = np.array([ [0, 1] ])\n",
        "D = np.array([ [0] ])\n",
        "modEE = ctl.StateSpace(A,B,C,D)\n",
        "print(modEE)\n",
        "\n",
        "#ou ainda:\n",
        "from control.matlab import StateSpace\n",
        "modEE2 = StateSpace(A,B,C,D)\n",
        "print(modEE2)\n",
        "\n",
        "#ou ainda:\n",
        "from control.matlab import ss\n",
        "\n",
        "modEE3 = ss(A,B,C,D)\n",
        "print(modEE3)"
      ],
      "metadata": {
        "id": "XtpDlj7Ba0C3",
        "colab": {
          "base_uri": "https://localhost:8080/"
        },
        "outputId": "f8924e6a-71ff-4192-9e57-48e887ed64a0"
      },
      "execution_count": null,
      "outputs": [
        {
          "output_type": "stream",
          "name": "stdout",
          "text": [
            "<StateSpace>: sys[259]\n",
            "Inputs (1): ['u[0]']\n",
            "Outputs (1): ['y[0]']\n",
            "States (2): ['x[0]', 'x[1]']\n",
            "\n",
            "A = [[      0.   -1000.]\n",
            "     [1000000. -100000.]]\n",
            "\n",
            "B = [[1000.]\n",
            "     [   0.]]\n",
            "\n",
            "C = [[0. 1.]]\n",
            "\n",
            "D = [[0.]]\n",
            "\n",
            "<StateSpace>: sys[260]\n",
            "Inputs (1): ['u[0]']\n",
            "Outputs (1): ['y[0]']\n",
            "States (2): ['x[0]', 'x[1]']\n",
            "\n",
            "A = [[      0.   -1000.]\n",
            "     [1000000. -100000.]]\n",
            "\n",
            "B = [[1000.]\n",
            "     [   0.]]\n",
            "\n",
            "C = [[0. 1.]]\n",
            "\n",
            "D = [[0.]]\n",
            "\n",
            "<StateSpace>: sys[261]\n",
            "Inputs (1): ['u[0]']\n",
            "Outputs (1): ['y[0]']\n",
            "States (2): ['x[0]', 'x[1]']\n",
            "\n",
            "A = [[      0.   -1000.]\n",
            "     [1000000. -100000.]]\n",
            "\n",
            "B = [[1000.]\n",
            "     [   0.]]\n",
            "\n",
            "C = [[0. 1.]]\n",
            "\n",
            "D = [[0.]]\n",
            "\n"
          ]
        }
      ]
    },
    {
      "cell_type": "markdown",
      "source": [
        "### Declaração de modelos em  E.E por meio de funções\n",
        "\n",
        "<p align=\"justify\"> Modelos em espaço de estados, lineares ou não lineares, em um código de programação podem ser declarados por meio de funções. Em Python o comando utilizado para declarar qualquer tipo de função é o $def$. A sintaxe geral que estrutura uma função é:\n",
        "<center>\n",
        "\n",
        "\n",
        "\n",
        "```\n",
        "def nome_da_funcao(parametros)\n",
        "```\n",
        "\n",
        "<p align=\"justify\"> Assim, o modelo declarado é combinado com uma ferramenta integração numérica para obter as soluções temporais para os estados. Tal solução numérica será abordada no Caderno 3.\n",
        "\n",
        " <p align=\"justify\"> O Exemplo 2.4 demonstra como declarar um modelo em espaço de estados não linear."
      ],
      "metadata": {
        "id": "YejisltEqk9Q"
      }
    },
    {
      "cell_type": "markdown",
      "source": [
        "<a name=\"ex24\"></a>\n",
        "###Exemplo 2.4:\n",
        "\n",
        "<p align=\"justify\"> A parte dinâmica de um modelo em E.E não linear é representada por:\n",
        "\n",
        "\n",
        "\n",
        "$$\n",
        " \\begin{bmatrix}\n",
        "  \\frac{dx(t)}{dt}  \\\\\n",
        " \\frac{dy(t)}{dt}  \\\\\n",
        " \\end{bmatrix}\n",
        " =\n",
        " \\begin{bmatrix}\n",
        "  ky(t) - x(t) \\\\\n",
        "  -x(t)\n",
        " \\end{bmatrix}\n",
        " .\n",
        "$$\n",
        "\n",
        "<p align=\"justify\">  Tal relação pode ser descrita de acordo com o código a seguir:\n",
        "\n",
        "\n",
        "\n"
      ],
      "metadata": {
        "id": "2LKwGUEqv2NO"
      }
    },
    {
      "cell_type": "code",
      "source": [
        "\n",
        "def modelSys(z,t,k):\n",
        "  x,y =z\n",
        "  dxdt=k*y-x\n",
        "  dydt=-x\n",
        "  return [dxdt,dydt]"
      ],
      "metadata": {
        "id": "RK6__brp9bJh"
      },
      "execution_count": null,
      "outputs": []
    },
    {
      "cell_type": "markdown",
      "source": [
        "##2.4 Conversão entre Representações\n",
        "\n",
        "Nas [seções 2.2](#sec22) e [2.3](#sec23) mostrou-se como é feita a representação de sistemas lineares utilizando a função de transferência e o modelo em espaço de estados, respectivamente.\n",
        "Para obter a representação em FT a partir do modelo em EE utiliza-se a função $ss2ft$:\n",
        "<center>\n",
        "\n",
        "```\n",
        "ctl.ss2tf(modEE)\n",
        "```\n",
        "\n",
        " <p align=\"justify\"> Além do mais, é possível obter representaçãos em Espaço de Estado a partir de FT's:\n",
        "\n",
        "<center>\n",
        "\n",
        "```\n",
        "ctl.tf2ss(FT)\n",
        "```"
      ],
      "metadata": {
        "id": "yNZf_JL3bFmv"
      }
    },
    {
      "cell_type": "markdown",
      "source": [
        "<a name=\"ex25\"></a>\n",
        "###Exemplo 2.5\n",
        "\n",
        "Considerando, novamente, o circuito RLC da [Figura 2.2](#fig22) e as suas representações em função de transferência [Exemplo 2.1](#ex21) e em espaço de estados [Exemplo 2.3](#ex23), pode-se realizar a conversão entre essas representações executando-se os códigos abaixo:\n"
      ],
      "metadata": {
        "id": "psPW5RogluF9"
      }
    },
    {
      "cell_type": "code",
      "source": [
        "# Conversão de Espaço de Estado para FT:\n",
        "FT = ctl.ss2tf(modEE)\n",
        "print(FT)\n",
        "#ou ainda:\n",
        "from control.matlab import ss2tf\n",
        "FT2 = ss2tf(modEE2)\n",
        "print(FT2)"
      ],
      "metadata": {
        "id": "jkiu7SnrbtEH",
        "colab": {
          "base_uri": "https://localhost:8080/"
        },
        "outputId": "c167fb6e-7f73-47f4-851b-47d81a0a0b03"
      },
      "execution_count": null,
      "outputs": [
        {
          "output_type": "stream",
          "name": "stdout",
          "text": [
            "<TransferFunction>: sys[257]\n",
            "Inputs (1): ['u[0]']\n",
            "Outputs (1): ['y[0]']\n",
            "\n",
            "\n",
            "        1e+09\n",
            "---------------------\n",
            "s^2 + 1e+05 s + 1e+09\n",
            "\n",
            "<TransferFunction>: sys[258]\n",
            "Inputs (1): ['u[0]']\n",
            "Outputs (1): ['y[0]']\n",
            "\n",
            "\n",
            "        1e+09\n",
            "---------------------\n",
            "s^2 + 1e+05 s + 1e+09\n",
            "\n"
          ]
        }
      ]
    },
    {
      "cell_type": "code",
      "source": [
        "# Conversão de FT para Espaço de Estado:\n",
        "EE = ctl.tf2ss(FT)\n",
        "print(EE)\n",
        "\n",
        "#ou ainda:\n",
        "from control.matlab import tf2ss\n",
        "EE2 = tf2ss(FT2)\n",
        "print(EE2)"
      ],
      "metadata": {
        "id": "zqiTlpkybxBP",
        "colab": {
          "base_uri": "https://localhost:8080/"
        },
        "outputId": "04a69b61-32e8-4dc6-e396-2d0982009dd7"
      },
      "execution_count": null,
      "outputs": [
        {
          "output_type": "stream",
          "name": "stdout",
          "text": [
            "<StateSpace>: sys[237]\n",
            "Inputs (1): ['u[0]']\n",
            "Outputs (1): ['y[0]']\n",
            "States (2): ['x[0]', 'x[1]']\n",
            "\n",
            "A = [[-1.e+05 -1.e+09]\n",
            "     [ 1.e+00  0.e+00]]\n",
            "\n",
            "B = [[1.]\n",
            "     [0.]]\n",
            "\n",
            "C = [[0.e+00 1.e+09]]\n",
            "\n",
            "D = [[0.]]\n",
            "\n",
            "<StateSpace>: sys[238]\n",
            "Inputs (1): ['u[0]']\n",
            "Outputs (1): ['y[0]']\n",
            "States (2): ['x[0]', 'x[1]']\n",
            "\n",
            "A = [[-1.e+05 -1.e+09]\n",
            "     [ 1.e+00  0.e+00]]\n",
            "\n",
            "B = [[1.]\n",
            "     [0.]]\n",
            "\n",
            "C = [[0.e+00 1.e+09]]\n",
            "\n",
            "D = [[0.]]\n",
            "\n"
          ]
        }
      ]
    },
    {
      "cell_type": "markdown",
      "source": [
        "##2.5 Resumo do Caderno\n",
        "\n",
        "<p align=\"justify\"> No presente caderno  foram apresentadas as principais funções, utilizadas em Python, para representação matemática de funções de transferência $(ctl.ft)$ e de modelos em espaço de estados $(ctl.StateSpace)$.  Ao longo das seções foram aplicados os conceitos e comandos para redução de diagramas de blocos por meio das operações básicas: cascata (*), paralelo($\\pm$) e realimentação ($ctl.feedback$). Também, utilizou-se um circuito RLC para demonstrar a criação de  uma FT e do modelo em E.E. As funções que realizam a conversão entre ambas as representações ($ctl.tf2ss$ e $ctl.ss2tf$) foram discutidas. Em adição, apresentou-se uma outra forma de declarar modelos em E.E ($def$), que também é válida para modelos não lineares.\n",
        "\n",
        "\n",
        "<p align=\"justify\"> A principal biblioteca que disponibilza a declaração FT e modelo em E.E  é a $Phython$ $Control$ $(ctl) $. Há um  módulo que emula algumas das funcionalidades do MATLAB $(control.matlab)$. A intenção do   módulo compatível em MATLAB ($\\href{http://www.overleaf.com}{https://python-control.readthedocs.io/en/latest/matlab.html} $) é fornecer uma interface simples para pessoas familiarizadas com o MATLAB. Ao longo deste caderno, também, foi utilizada a biblioteca $numpy$ ($\\href{http://www.overleaf.com}{https://numpy.org/devdocs/user/} $), para geração de matrizes e vetores."
      ],
      "metadata": {
        "id": "9X2fJ48gU7R_"
      }
    },
    {
      "cell_type": "markdown",
      "source": [
        "**bold text**##2.6 Referências\n",
        "<a name=\"ref1\"></a>\n",
        "1 DORF, R. C.; BISHOP, R. H. Modern Control Systems. [S.l.]: Prentice Hall, 2011.\n",
        "\n",
        "<a name=\"ref2\"></a>\n",
        "2 NISE, N. S. Control Systems Engineering. [S.l.]: John Wiley & Sons, 2007.\n",
        "\n",
        "<a name=\"ref3\"></a>\n",
        "3 GIUSTINA, E. D.; SIENA, W. Utilização de ferramenta computacional scilab para o planejamento de trajetórias robóticas via polinômio de terceira ordem. XIV CONEMI, 2014.\n",
        "\n",
        "<a name=\"ref4\"></a>\n",
        "4 MANUAL Scilab Versão 5.5.2, 2015. [S.l.].\n",
        "\n",
        "<a name=\"ref5\"></a>\n",
        "5 LOPES, L. C. O. Utilizando o scilab na resolução de problemas da engenharia química. XV COBEQ, 2004.\n",
        "\n",
        "<a name=\"ref6\"></a>\n",
        "6 AMANTEA, R. P. Algoritmos e Lógica de Programação - Práticas de Laboratório.\n",
        "Centro Universitário UNA. 2014.\n",
        "\n",
        "<a name=\"ref7\"></a>\n",
        "7 OPPENHEIM, A. V. Sinais e sistemas. 3ª edição. ed. [S.l.]: Prentice-Hall, 2010.\n",
        "\n",
        "<a name=\"ref8\"></a>\n",
        "8 OGATA, K. Modern control engineering. [S.l.]: Prentice Hall PTR, 2001.\n",
        "\n",
        "<a name=\"ref9\"></a>\n",
        "9 SANTOS, R. J. Introdução às equações diferenciais ordinárias. 2011.\n",
        "\n",
        "<a name=\"ref10\"></a>\n",
        "10 HILDEBRAND, F. B. Advanced calculus for applications. [S.l.]: Prentice-Hall\n",
        "Englewood Cliffs, NJ, 1962. v. 63.\n",
        "\n",
        "<a name=\"ref11\"></a>\n",
        "11 SCHNEIDER, R. T. Pneumatic robots continue to improve. Hydraulics & Pneumatics, p. 38–39, October 1992.\n",
        "\n",
        "<a name=\"ref12\"></a>\n",
        "12 CASTRUCCI, P.; BITTAR, A.; SALES, R. Controle Automático. [S.l.]: GEN/LTC,\n",
        "2011"
      ],
      "metadata": {
        "id": "gsosieqEOcyA"
      }
    }
  ]
}