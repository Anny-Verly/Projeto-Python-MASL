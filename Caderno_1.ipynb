{
  "nbformat": 4,
  "nbformat_minor": 0,
  "metadata": {
    "colab": {
      "provenance": [],
      "toc_visible": true,
      "include_colab_link": true
    },
    "kernelspec": {
      "name": "python3",
      "display_name": "Python 3"
    },
    "language_info": {
      "name": "python"
    }
  },
  "cells": [
    {
      "cell_type": "markdown",
      "metadata": {
        "id": "view-in-github",
        "colab_type": "text"
      },
      "source": [
        "<a href=\"https://colab.research.google.com/github/Anny-Verly/Projeto-Python-MASL/blob/main/Caderno_1.ipynb\" target=\"_parent\"><img src=\"https://colab.research.google.com/assets/colab-badge.svg\" alt=\"Open In Colab\"/></a>"
      ]
    },
    {
      "cell_type": "markdown",
      "source": [
        "#  <center>  </center>\n",
        "\n",
        "# <center> Caderno 1\n",
        "# <center> Introdução ao Python </center>"
      ],
      "metadata": {
        "id": "P0X75F17q-Cx"
      }
    },
    {
      "cell_type": "markdown",
      "source": [
        "\n",
        "\n",
        "##1.1 Google Colaboratory\n",
        "\n",
        "<p align=\"justify\">  O Google Colaboratory, ou Google Colab, é um serviço de nuvem que permite misturar códigos fonte, geralmente em python, e  linhas de texto, geralmente em $\\textbf{markdown}$. No próprio ambiente,  pode-se adicionar imagens, textos e gerar os resultados dos códigos. Se trata de uma técnica conhecida como $\\textit{notebook}$.\n",
        "\n",
        "<p align=\"justify\"> Os $\\textit{notebooks}$ são editores que permitem a construção, edição e execução de códigos. Tais programas podem ser executados em pequenas partes, conhecidas como $\\textit{células}$, o que facilita a visualização das informações. Além do mais, os notebooks podem ser compartilhados ou modificados por outros usuários, desde que tenham acesso liberado.\n",
        "\n",
        " Inspirado no Jupyter Notebook, o Colab foi criado para ser uma ferramenta gratuita utilizada em ciência de dados. Para começar a utilizar o Colab, o usuário pode encontrar informações iniciais no $\\textit{notebook}$ disponibilizado em [Welcome to Colab!](https://colab.research.google.com/notebooks/intro.ipynb) [[1]](#ref1).\n"
      ],
      "metadata": {
        "id": "KKCIZiUKXOi6"
      }
    },
    {
      "cell_type": "markdown",
      "source": [
        "\n",
        "\n",
        "##1.2 Criando o Primeiro Notebook\n",
        "\n",
        "<p align=\"justify\"> Logado no própria conta do Google, o usuário deve acessar o link anterior, que direciona para o $\\textit{notebook}$ inicial. Na sequência, basta clicar em  $\\textit{>File}$, canto superior esquerdo, e em seguida em  $\\textit{>New Notebook in Drive}$, de acordo com a Figura 1.1.\n",
        "\n",
        "\n",
        " <center>   \n",
        "<p align=\"center\">\n",
        "<img src=\"https://github.com/Anny-Verly/Projeto-Python-MASL/blob/main/Imagens_Caderno_1/Figura%201.1.png?raw=true\"\n",
        "width=\"1500\" height=\"\" style=\"display: block; margin: 0 auto\" />\n",
        "\n",
        "\n",
        "  Figura 1.1 - Adaptado de [[1]](#ref1). </center>\n",
        "\n",
        "\n",
        " <p align=\"justify\">  O primeiro $\\textit{notebook}$, denominado $\\textit{Untitled0.ipynb}$, é criado. Na Figura 1.2 são destacadas algumas funcionalidades do $\\textit{notebook}$.\n",
        "\n",
        "<center>\n",
        "\n",
        "<p align=\"center\">\n",
        "<img src=\"https://github.com/Anny-Verly/Projeto-Python-MASL/blob/main/Imagens_Caderno_1/Figura%201.2.png?raw=true\"\n",
        "width=\"1500\" height=\"\" style=\"display: block; margin: 0 auto\" />\n",
        "\n",
        "Figura 1.2 - Adaptado [[1]](#ref1).</center>\n"
      ],
      "metadata": {
        "id": "yps8DTTWrR5y"
      }
    },
    {
      "cell_type": "markdown",
      "source": [
        " <p align=\"justify\">  $\\textbf{1 - Célula}$: local utilizado para escrever códigos ou textos. Para executar um comando qualquer, basta clicar no botão play ou então, utilizar o atalho no teclado SHIFT+ENTER.\n",
        "\n",
        " <p align=\"justify\"> $\\textbf{2 + Código}$: adiciona células de código e + Texto: adiciona as células de texto com as configurações markdown.\n",
        "\n",
        " <p align=\"justify\"> $\\textbf{3 - Estrutura de direrórios}$: ao clicar no ícone da pasta aparecem opções como a de carregar arquivos do Google Drive* (Montar Drive) ou da própria máquina."
      ],
      "metadata": {
        "id": "d8G33yPpCsxU"
      }
    },
    {
      "cell_type": "code",
      "source": [
        "from google.colab import drive\n",
        "drive.mount('/content/drive')"
      ],
      "metadata": {
        "colab": {
          "base_uri": "https://localhost:8080/"
        },
        "id": "FmT8BWOMDXGP",
        "outputId": "d772c375-c4fc-4c6b-d07f-82b76be58f0a"
      },
      "execution_count": 1,
      "outputs": [
        {
          "output_type": "stream",
          "name": "stdout",
          "text": [
            "Mounted at /content/drive\n"
          ]
        }
      ]
    },
    {
      "cell_type": "markdown",
      "source": [
        "##1.3 A Linguagem Python\n",
        "\n",
        "\n",
        "\n",
        "\n",
        "\n"
      ],
      "metadata": {
        "id": "3-wh9lxNd0nU"
      }
    },
    {
      "cell_type": "markdown",
      "source": [
        "### Bibliotecas\n",
        "\n",
        "<p align=\"justify\"> A programação em Python possui uma vasta quantidade de bibliotecas disponíveis para inúmeras funções. Muitas delas vêm instaladas no interpretador do Python (Colab).\n",
        "\n",
        "No repositório oficial do Python, [PyPi - Python Package Index](https://pypi.org) [[2]](#ref2), encontra-se um grande acervo de bibliotecas. Para usufruir das funções disponíveis nas bibliotecas o usuário deve executar no prompt dois comandos:\n",
        "\n",
        "```\n",
        "pip install <nome_da_biblioteca>\n",
        "\n",
        "import <nome_do_objeto_importado>\n",
        "```\n",
        "Pode-se  importar apenas uma função de alguma biblioteca, executando:\n",
        "\n",
        "```\n",
        "from <nome_da_biblioteca> import <nome_do_objeto_importado>\n",
        "```\n",
        "Como exemplo, pode-se ilustar a instalação da biblioteca **matplotlib**, responsável pela criação de gráficos estáticos ou dinâmicos de alta qualidade."
      ],
      "metadata": {
        "id": "GzDo1WXX9Mz3"
      }
    },
    {
      "cell_type": "code",
      "source": [
        "import matplotlib"
      ],
      "metadata": {
        "id": "2qKbyK6NM377"
      },
      "execution_count": null,
      "outputs": []
    },
    {
      "cell_type": "markdown",
      "source": [
        "\n",
        "<p align=\"justify\"> A biblioteca $\\textbf{math}$ possui diversas operações matemáticas, como funções para números complexos, por exemplo:"
      ],
      "metadata": {
        "id": "fxzVZbbh_J3E"
      }
    },
    {
      "cell_type": "code",
      "source": [
        "import math\n",
        "print(math.factorial(3))\n",
        "print(math.exp(1))\n",
        "print(math.log(math.e)) # log natural\n",
        "print(math.degrees(3.14159)) # converte radianos para graus\n",
        "print(math.radians(180)) # converte de graus para radiano\n",
        "math.hypot(3,4) # norma euclidiana\n",
        "math.atan2(1,2) # arco tangente de 1/2.\n",
        "\n"
      ],
      "metadata": {
        "colab": {
          "base_uri": "https://localhost:8080/"
        },
        "id": "0RteHoCGABQ0",
        "outputId": "8084e308-6533-47b6-d801-9d4099b6c88b"
      },
      "execution_count": null,
      "outputs": [
        {
          "output_type": "stream",
          "name": "stdout",
          "text": [
            "6\n",
            "2.718281828459045\n",
            "1.0\n",
            "179.9998479605043\n",
            "3.141592653589793\n"
          ]
        },
        {
          "output_type": "execute_result",
          "data": {
            "text/plain": [
              "0.4636476090008061"
            ]
          },
          "metadata": {},
          "execution_count": 12
        }
      ]
    },
    {
      "cell_type": "markdown",
      "source": [
        "\n",
        "<p align=\"justify\"> A biblioteca $\\textbf{NumPy}$ é projetada com códigos de alta performance. Com sua abreviação originária de $\\textbf{Numerical Python}$, se trata de uma biblioteca de código aberto destinada a realizar operações em $\\textit{arrays}$ multidimensionais ($\\textit{ndarray}$). A função $\\textit{array}$, por exemplo, é uma das mais usuais para criação de uma estrutura de dados de apenas um tipo, normalmente números. Para utilizar as funções disponíveis basta realizar o comando:\n",
        "<center>\n",
        "\n",
        "```\n",
        "numpy.função\n",
        "```"
      ],
      "metadata": {
        "id": "zzgWCh9G0SU6"
      }
    },
    {
      "cell_type": "markdown",
      "source": [
        "<p align=\"justify\"> A biblioteca SciPy, abreviação de Scientific Python, é uma biblioteca de código aberto que proporciona um conjunto robusto de módulos para otimização, álgebra linear, integração, interpolação, funções especiais, FFT, processamento de sinais e imagem, solução de equações diferenciais e outras tarefas comuns na ciência e engenharia. Construído sobre o NumPy, o SciPy tira proveito de seus objetos de array multidimensional para oferecer uma performance excelente em operações matemáticas e científicas."
      ],
      "metadata": {
        "id": "QD9Zhm251scG"
      }
    },
    {
      "cell_type": "markdown",
      "source": [
        "<p align=\"justify\">  As bibliotecas $\\textbf{Pandas}$ e $\\textbf{scikit-learn}$, são ferramentos poderosas utilizadas em conjunto com o pacote $\\textbf{Numpy}$. Tais bibliotecas permitem implementar variados algoritmos de $\\textit{machine learning}$."
      ],
      "metadata": {
        "id": "7pLyLlNf45i2"
      }
    },
    {
      "cell_type": "markdown",
      "source": [
        "### Tipos de Variáveis\n",
        "\n",
        "<p align=\"justify\">  A linguagem estabelecida deve entender o tipo de valor utilizado para executar o programa de forma correta. Em Python, para descobrir o tipo da variável, basta utilizar a função $\\textit{type()}$, de acordo com os exemplos abaixo:"
      ],
      "metadata": {
        "id": "8GpiZAYb9F4M"
      }
    },
    {
      "cell_type": "code",
      "source": [
        "type(10)"
      ],
      "metadata": {
        "colab": {
          "base_uri": "https://localhost:8080/"
        },
        "id": "-dX-EPZQgKyh",
        "outputId": "514bd3f3-8770-4124-f580-cb2127c727db"
      },
      "execution_count": null,
      "outputs": [
        {
          "output_type": "execute_result",
          "data": {
            "text/plain": [
              "int"
            ]
          },
          "metadata": {},
          "execution_count": 8
        }
      ]
    },
    {
      "cell_type": "code",
      "source": [
        "type(10.2)"
      ],
      "metadata": {
        "colab": {
          "base_uri": "https://localhost:8080/"
        },
        "id": "OE7ARZ3Igr1m",
        "outputId": "f7de4d78-9016-4d9a-ed05-6c3905689ddf"
      },
      "execution_count": null,
      "outputs": [
        {
          "output_type": "execute_result",
          "data": {
            "text/plain": [
              "float"
            ]
          },
          "metadata": {},
          "execution_count": 9
        }
      ]
    },
    {
      "cell_type": "code",
      "source": [
        "type(10+10j)"
      ],
      "metadata": {
        "colab": {
          "base_uri": "https://localhost:8080/"
        },
        "id": "hXf_gN4pgrZU",
        "outputId": "74faa76c-7c56-44e7-e793-43e93ce3bc2f"
      },
      "execution_count": null,
      "outputs": [
        {
          "output_type": "execute_result",
          "data": {
            "text/plain": [
              "complex"
            ]
          },
          "metadata": {},
          "execution_count": 10
        }
      ]
    },
    {
      "cell_type": "code",
      "source": [
        "type('Hello World')"
      ],
      "metadata": {
        "colab": {
          "base_uri": "https://localhost:8080/"
        },
        "id": "92po_G3egq8j",
        "outputId": "f35ae5f3-a86c-4322-fa72-9706da83b6cb"
      },
      "execution_count": null,
      "outputs": [
        {
          "output_type": "execute_result",
          "data": {
            "text/plain": [
              "str"
            ]
          },
          "metadata": {},
          "execution_count": 11
        }
      ]
    },
    {
      "cell_type": "code",
      "source": [
        "type([10, 10.2, 10 + 10j, 'Hello World'])"
      ],
      "metadata": {
        "colab": {
          "base_uri": "https://localhost:8080/"
        },
        "id": "g6Rl4531gqfo",
        "outputId": "b9c87dcf-6246-4d49-ff1b-de22e1989764"
      },
      "execution_count": null,
      "outputs": [
        {
          "output_type": "execute_result",
          "data": {
            "text/plain": [
              "list"
            ]
          },
          "metadata": {},
          "execution_count": 1
        }
      ]
    },
    {
      "cell_type": "markdown",
      "source": [
        "<p align=\"justify\"> De fato, a variáveis previamente estabelecidas são descritas, respectivamente, como: inteira, real, complexa, do tipo $\\textit{string}$ e do tipo lista.\n",
        "Existem algumas palavras-chave que não podem ser utilizadas como variáveis. A tabela abaixo, lista algumas dessas variáveis.\n",
        "\n",
        "<p align=\"justify\">  Para a declaração de uma variável, basta fazer sua atribuição. Em adição, os nomes das variáveis não podem ser iniciados com um número e caracteres ilegais. O exemplo a seguir demonstra como atribuir um valor complexo a uma variável e imprimir na tela as informações da mesma.\n"
      ],
      "metadata": {
        "id": "4e-vMNOehNuJ"
      }
    },
    {
      "cell_type": "code",
      "source": [
        "d = 7 + 5j\n",
        "print(d)"
      ],
      "metadata": {
        "id": "rBDCaTZ50GeS",
        "colab": {
          "base_uri": "https://localhost:8080/"
        },
        "outputId": "c6c0f5ab-24b8-42ee-c29b-3f84ce0dfbae"
      },
      "execution_count": null,
      "outputs": [
        {
          "output_type": "stream",
          "name": "stdout",
          "text": [
            "(7+5j)\n"
          ]
        }
      ]
    },
    {
      "cell_type": "markdown",
      "source": [
        "### Expressões Aritméticas e Lógicas\n",
        "\n",
        "<p align=\"justify\"> Em Pythons as expressões aritméticas são as encontradas em outras linguagens. Os operadores usais são: +, -, *, / e %. Sendo que o último   retorna o valor do resto da divisão entre dois números.\n",
        "\n",
        "<p align=\"justify\">  A operação de exponenciação é representada por **, e a operação de divisão com resultado da parte inteira é representada por //. Abaixo são representadas algumas dessas operações."
      ],
      "metadata": {
        "id": "6GfZihFuk-Jt"
      }
    },
    {
      "cell_type": "code",
      "source": [
        "a=10**3\n",
        "print(a)\n",
        "b=10**3//3\n",
        "print(b)\n",
        "c=10**(3/3)\n",
        "print(c)"
      ],
      "metadata": {
        "colab": {
          "base_uri": "https://localhost:8080/"
        },
        "id": "_DRLpxuGniD-",
        "outputId": "92cc5723-c0a1-4c4e-ee51-e6749feb244e"
      },
      "execution_count": null,
      "outputs": [
        {
          "output_type": "stream",
          "name": "stdout",
          "text": [
            "1000\n",
            "333\n",
            "10.0\n"
          ]
        }
      ]
    },
    {
      "cell_type": "markdown",
      "source": [
        "###Manipulando *Strings*\n",
        "\n",
        " <p align=\"justify\"> Uma $\\textit{string}$ é uma sequência imutável, onde cada caractere assume um endereço que pode ser acessado. Tal fato, oferece a possibilidade de manipular a $\\textit{string}$, por exemplo:\n"
      ],
      "metadata": {
        "id": "oV3JxL6XJqXx"
      }
    },
    {
      "cell_type": "code",
      "source": [
        "teste='Aqui está um teste' #\n",
        "\n",
        "teste[0:10] +teste[-4:]# posição de 0 => 9 + posição (18-4) até a última"
      ],
      "metadata": {
        "colab": {
          "base_uri": "https://localhost:8080/",
          "height": 37
        },
        "id": "yanZufVnP_P1",
        "outputId": "335ee96b-c1cf-4783-cdca-c6071b579864"
      },
      "execution_count": null,
      "outputs": [
        {
          "output_type": "execute_result",
          "data": {
            "text/plain": [
              "'Aqui está este'"
            ],
            "application/vnd.google.colaboratory.intrinsic+json": {
              "type": "string"
            }
          },
          "metadata": {},
          "execution_count": 15
        }
      ]
    },
    {
      "cell_type": "markdown",
      "source": [
        " <p align=\"justify\">  No exemplo anterior  selecionou-se apenas uma parcela dos caracteres por meio do operador $[m:n]$. Assim, os componentes da $\\textit{string}$ vão de $m$ a $n - 1$. Os índices negativos são utilizados para acessar os elementos finais da $\\textit{string}$. Ademais, as strings podem ser concatenadas utilizando o operador $+$."
      ],
      "metadata": {
        "id": "TcgMina0wE60"
      }
    },
    {
      "cell_type": "markdown",
      "source": [
        "A formatação de  *strings*, basicamente, utiliza o operador **%** que é composto por três ações:\n",
        "\n",
        "```\n",
        "%s - substitui a string;\n",
        "\n",
        "%d - substitui números inteiros em uma frase destinada a um print;\n",
        "\n",
        "%f - substitui floats (números não inteiros).\n",
        "```\n",
        "\n",
        "Exemplo:"
      ],
      "metadata": {
        "id": "0vkf6MVuNMva"
      }
    },
    {
      "cell_type": "code",
      "source": [
        "a='Hello World'\n",
        "b=10\n",
        "print('At %d a.m she said: %s!' %(b,a))\n"
      ],
      "metadata": {
        "colab": {
          "base_uri": "https://localhost:8080/"
        },
        "id": "_M4405jmMPTg",
        "outputId": "c7f4371c-8737-49b9-8d05-b91efa114fe5"
      },
      "execution_count": null,
      "outputs": [
        {
          "output_type": "stream",
          "name": "stdout",
          "text": [
            "At 10 a.m she said: Hello World!\n"
          ]
        }
      ]
    },
    {
      "cell_type": "code",
      "source": [
        "pi=3.141592653\n",
        "print('%.2f ' %(pi))"
      ],
      "metadata": {
        "colab": {
          "base_uri": "https://localhost:8080/"
        },
        "id": "z3kSZS5hPJrx",
        "outputId": "51197c43-b592-4d49-a834-ab29e160ba55"
      },
      "execution_count": null,
      "outputs": [
        {
          "output_type": "stream",
          "name": "stdout",
          "text": [
            "3.14 \n"
          ]
        }
      ]
    },
    {
      "cell_type": "markdown",
      "source": [
        "Alguns métodos usuais na formatação de *strings* são exemplificados a seguir."
      ],
      "metadata": {
        "id": "x0tfOMQm0fVr"
      }
    },
    {
      "cell_type": "code",
      "source": [
        "print(a.upper( ))  # modifica os caracteres minúsculos para maiúsculos\n",
        "print(a.find('!')) # exibe a posição do caractere \"!\" em a\n",
        "print(a.count('l')) # Calculo o número de repetições do caractere \"l\""
      ],
      "metadata": {
        "colab": {
          "base_uri": "https://localhost:8080/"
        },
        "id": "6YVZ0bUJ1JBw",
        "outputId": "439c86d9-e408-4829-bf8b-39891df97e3e"
      },
      "execution_count": null,
      "outputs": [
        {
          "output_type": "stream",
          "name": "stdout",
          "text": [
            "HELLO WORLD\n",
            "-1\n",
            "3\n"
          ]
        }
      ]
    },
    {
      "cell_type": "markdown",
      "source": [
        " <p align=\"justify\"> A função $\\textit{input}$  torna possível que o usuário entre com variáveis do tipo $\\textit{string}$, ou outros tipos, na linha de comando. Por exemplo:"
      ],
      "metadata": {
        "id": "Xa9bcaytWWR4"
      }
    },
    {
      "cell_type": "code",
      "source": [
        "curso = input('Digite o nome de seu curso de graduação: ')\n",
        "print('Seu curso é ' + curso)\n"
      ],
      "metadata": {
        "colab": {
          "base_uri": "https://localhost:8080/"
        },
        "id": "ivsTNGdtW_PS",
        "outputId": "9db9b4d4-6b3f-4855-bd73-d9f5f6cd955b"
      },
      "execution_count": null,
      "outputs": [
        {
          "output_type": "stream",
          "name": "stdout",
          "text": [
            "Digite o nome de seu curso de graduação: Eng. Elétrica\n",
            "Seu curso é Eng. Elétrica\n"
          ]
        }
      ]
    },
    {
      "cell_type": "code",
      "source": [
        "período = input('Digite o período que está cursando: ')\n",
        "print('Período ' + período)"
      ],
      "metadata": {
        "colab": {
          "base_uri": "https://localhost:8080/"
        },
        "id": "f4aQQUUCZGzu",
        "outputId": "d869a9f9-57db-4358-a310-5f66f8cf482f"
      },
      "execution_count": null,
      "outputs": [
        {
          "output_type": "stream",
          "name": "stdout",
          "text": [
            "Digite o período que está cursando: 5\n",
            "Período 5\n"
          ]
        }
      ]
    },
    {
      "cell_type": "markdown",
      "source": [
        "###Listas ou Vetores\n",
        "\n",
        " <p align=\"justify\">  Dadas como sequência de variaveis, as listas são definidas digitando, por exemplo, os seguintes comandos:\n"
      ],
      "metadata": {
        "id": "PQK90dS_scHL"
      }
    },
    {
      "cell_type": "code",
      "source": [
        "lista=[1,2,3]\n",
        "print(lista)"
      ],
      "metadata": {
        "id": "P8KnowmltjEK",
        "colab": {
          "base_uri": "https://localhost:8080/"
        },
        "outputId": "60715841-0fbe-47bc-84e6-a5af7e2a2f29"
      },
      "execution_count": null,
      "outputs": [
        {
          "output_type": "stream",
          "name": "stdout",
          "text": [
            "[1, 2, 3]\n"
          ]
        }
      ]
    },
    {
      "cell_type": "markdown",
      "source": [
        " <p align=\"justify\">  O endereçamento dos elementos começa no 0 (zero). Para redefinir um componente na lista e verificar o tamanho da mesma, podem-se executar os seguintes comandos, respectivamente:"
      ],
      "metadata": {
        "id": "Q1UKncD_tv_0"
      }
    },
    {
      "cell_type": "code",
      "source": [
        "lista[0]=4\n",
        "print(lista)\n",
        "len(lista)"
      ],
      "metadata": {
        "colab": {
          "base_uri": "https://localhost:8080/"
        },
        "id": "8fpl647kui9B",
        "outputId": "b6824d39-659c-4051-8c20-91c274b5e80b"
      },
      "execution_count": null,
      "outputs": [
        {
          "output_type": "stream",
          "name": "stdout",
          "text": [
            "[4, 2, 3]\n"
          ]
        },
        {
          "output_type": "execute_result",
          "data": {
            "text/plain": [
              "3"
            ]
          },
          "metadata": {},
          "execution_count": 22
        }
      ]
    },
    {
      "cell_type": "markdown",
      "source": [
        " <p align=\"justify\">  É possível  criar uma lista vazia, em que o objetivo é atribuir elementos posteriormente. Para isso, pode-se utilizar o seguinte comando:\n",
        "<center>\n",
        "\n",
        "```\n",
        "lista_vazia = [].\n",
        "```\n",
        "<p align=\"justify\">\n",
        "Os comandos lista.append($\\bullet$) e lista.extend([$\\bullet$]) adicionam, respectivamente, um elemento $\\bullet$ no final do vetor nomeado de lista e uma lista inteira, [$\\bullet$], no final do vetor nomeado lista, por exemplo:"
      ],
      "metadata": {
        "id": "Z1KT1EkjwqAE"
      }
    },
    {
      "cell_type": "code",
      "source": [
        "lista.append(4)\n",
        "lista.extend([5,6,7,8])\n",
        "lista"
      ],
      "metadata": {
        "colab": {
          "base_uri": "https://localhost:8080/"
        },
        "id": "oVPblQTqzioa",
        "outputId": "331ef59f-cecc-4ecc-9ed6-855f22b1a2d2"
      },
      "execution_count": null,
      "outputs": [
        {
          "output_type": "execute_result",
          "data": {
            "text/plain": [
              "[4, 2, 3, 4, 5, 6, 7, 8]"
            ]
          },
          "metadata": {},
          "execution_count": 23
        }
      ]
    },
    {
      "cell_type": "markdown",
      "source": [
        "Para adicionar dados a uma lista podem-se somar listas, ou então executar o comando **lista += lista**, por exemplo:"
      ],
      "metadata": {
        "id": "wzF07VkK2o-U"
      }
    },
    {
      "cell_type": "code",
      "source": [
        "lista += lista\n",
        "lista"
      ],
      "metadata": {
        "colab": {
          "base_uri": "https://localhost:8080/"
        },
        "id": "WYr6l2Zt3e7i",
        "outputId": "6313e4cb-5432-4097-dc58-6832bd842fd6"
      },
      "execution_count": null,
      "outputs": [
        {
          "output_type": "execute_result",
          "data": {
            "text/plain": [
              "[4, 2, 3, 4, 5, 6, 7, 8, 4, 2, 3, 4, 5, 6, 7, 8]"
            ]
          },
          "metadata": {},
          "execution_count": 24
        }
      ]
    },
    {
      "cell_type": "markdown",
      "source": [
        " <p align=\"justify\">  A função $\\textit{lista.index}$($\\bullet$) indica em qual posição o elemento $\\bullet$ se encontra no vetor nomeado como $\\textit{lista}$. Se o elemento $\\bullet$ aparecer mais de uma vez na lista, a função indicará a posição da primeira ocorrência de $\\bullet$:"
      ],
      "metadata": {
        "id": "ADp4fJbw4hBK"
      }
    },
    {
      "cell_type": "code",
      "source": [
        "lista.index(4)"
      ],
      "metadata": {
        "colab": {
          "base_uri": "https://localhost:8080/"
        },
        "id": "X7etPACm5cvh",
        "outputId": "e2d9ee2b-2dba-4aa8-febc-350b79903876"
      },
      "execution_count": null,
      "outputs": [
        {
          "output_type": "execute_result",
          "data": {
            "text/plain": [
              "0"
            ]
          },
          "metadata": {},
          "execution_count": 25
        }
      ]
    },
    {
      "cell_type": "markdown",
      "source": [
        " <p align=\"justify\">  Para remover um elemento do vetor denominado $\\textit{lista}$ utiliza-se a função $\\textit{del lista}$[$\\bullet$], em que $\\bullet$ é a posição do elemento eliminado:"
      ],
      "metadata": {
        "id": "6RLYnYnw5xOr"
      }
    },
    {
      "cell_type": "code",
      "source": [
        "del lista[0]\n",
        "lista"
      ],
      "metadata": {
        "colab": {
          "base_uri": "https://localhost:8080/"
        },
        "id": "X84DpEOA7F9P",
        "outputId": "6ca0bbfb-6831-49af-f0c3-e39dcf5a57d9"
      },
      "execution_count": null,
      "outputs": [
        {
          "output_type": "execute_result",
          "data": {
            "text/plain": [
              "[2, 3, 4, 5, 6, 7, 8, 4, 2, 3, 4, 5, 6, 7, 8]"
            ]
          },
          "metadata": {},
          "execution_count": 26
        }
      ]
    },
    {
      "cell_type": "markdown",
      "source": [
        "Na sequência, exibi-se alguns comandos usuais:"
      ],
      "metadata": {
        "id": "-_Xl8jIIr7_m"
      }
    },
    {
      "cell_type": "code",
      "source": [
        "nl=sorted(lista) # ordena os elementos da lista\n",
        "print(nl)\n",
        "le2=lista.pop(2) # exclui o elemnto \"2\" da lista e indica o elemento removido\n",
        "print(le2)\n",
        "print(lista)"
      ],
      "metadata": {
        "colab": {
          "base_uri": "https://localhost:8080/"
        },
        "id": "dWbEq8rHozRS",
        "outputId": "b9445c10-f1fd-411a-f94c-9519936a3991"
      },
      "execution_count": null,
      "outputs": [
        {
          "output_type": "stream",
          "name": "stdout",
          "text": [
            "[2, 2, 3, 3, 4, 4, 4, 5, 5, 6, 6, 7, 7, 8, 8]\n",
            "4\n",
            "[2, 3, 5, 6, 7, 8, 4, 2, 3, 4, 5, 6, 7, 8]\n"
          ]
        }
      ]
    },
    {
      "cell_type": "markdown",
      "source": [
        "###Matrizes\n",
        "\n",
        " <p align=\"justify\">  O pacote essencialmente utilizado para operações matemáticas envolvendo matrizes é o $\\textit{NumPy}$. Com o pacote devidamente instalado, a função $\\textit{array}$ é utilizada para a criação de matrizes. Para criar uma matriz utiliza-se o comando:\n",
        "\n",
        "<center>\n",
        "\n",
        "```\n",
        "Nome da Matriz = numpy.array([vetores linha separados por \",\"])\n",
        "```\n",
        "<p align=\"justify\">\n",
        "Por exemplo:"
      ],
      "metadata": {
        "id": "nIhmFKDM57iL"
      }
    },
    {
      "cell_type": "code",
      "source": [
        "A = numpy.array([1, 2, 3])\n",
        "print(A)\n",
        "matriz = numpy.array([[1, 2, 3], [4, 5, 6]])\n",
        "print(matriz)\n",
        "#ou ainda\n",
        "matriz = numpy.array([A, A])\n",
        "print(matriz)\n"
      ],
      "metadata": {
        "colab": {
          "base_uri": "https://localhost:8080/"
        },
        "id": "fvLbNAZo98rT",
        "outputId": "e313f5ff-a7e7-47aa-a7f9-0ec74e0aa05b"
      },
      "execution_count": null,
      "outputs": [
        {
          "output_type": "stream",
          "name": "stdout",
          "text": [
            "[1 2 3]\n",
            "[[1 2 3]\n",
            " [4 5 6]]\n",
            "[[1 2 3]\n",
            " [1 2 3]]\n"
          ]
        }
      ]
    },
    {
      "cell_type": "markdown",
      "source": [
        " <p align=\"justify\">  Podem-se elencar algumas funções que realizam operações básicas envolvendo matrizes e a criação delas:\n",
        "\n",
        "<center>\n",
        "\n",
        "```\n",
        "matriz.max() # retorna o maior elemento da matriz\n",
        "matriz.min() # retorna o menor elemento da matriz\n",
        "matriz.sum() # retorna a soma de todos os elementos da matriz\n",
        "matriz.prod() # retorna a multiplicação de todos os elementos da matriz\n",
        "matriz.mean() # retorna a média dos elementos da matriz\n",
        "matriz.std() # retorna o desvio padrão dos elementos da matriz\n",
        "numpy.zeros((m, n)) # cria uma matriz de zeros de dimensão m × n\n",
        "numpy.ones((m, n)) # cria uma matriz de uns de dimensão m × n\n",
        "numpy.eye(n) # cria uma matriz n x n, com a diagonal preenchida com uns e demais elementos zero\n",
        "```"
      ],
      "metadata": {
        "id": "5ht4xZLsAPnh"
      }
    },
    {
      "cell_type": "markdown",
      "source": [
        "###Dicionário\n",
        "\n",
        "\n",
        " <p align=\"justify\">  Se trata de um conjunto de elementos formados por chaves, $\\textit{strings}$  ou tuplas imutáveis, e seus respectivos valores, que são mutáveis. As chaves, { }, indicam a cridação de um dicionário, por exemplo,"
      ],
      "metadata": {
        "id": "YNrxuNKVIBQ6"
      }
    },
    {
      "cell_type": "code",
      "source": [
        "dici={'senha1' : 10, 'senha2' : 21, 'senha3' : 22}\n",
        "print(dici)\n",
        "# OU\n",
        "dici = dict()\n",
        "dici['senha1'] = 10\n",
        "dici['senha2'] = 21\n",
        "dici['senha3'] = 22\n",
        "print(dici)"
      ],
      "metadata": {
        "colab": {
          "base_uri": "https://localhost:8080/"
        },
        "id": "BOc6fNNRsc4u",
        "outputId": "361110b3-ccbd-40ca-abe1-6c2fdffef4ce"
      },
      "execution_count": null,
      "outputs": [
        {
          "output_type": "stream",
          "name": "stdout",
          "text": [
            "{'senha1': 10, 'senha2': 21, 'senha3': 22}\n",
            "{'senha1': 10, 'senha2': 21, 'senha3': 22}\n"
          ]
        }
      ]
    },
    {
      "cell_type": "markdown",
      "source": [
        "A adição de novos elementos, no dicionário, é feita por meio do comando:\n",
        "<center>\n",
        "\n",
        "```\n",
        "variavel['chave'] = novo elemento\n",
        "```\n",
        "\n",
        "<p align=\"justify\"> O exemplo a seguir demonstra a criação e manipulação de um dicionário:"
      ],
      "metadata": {
        "id": "Fjoxm7b9ubdK"
      }
    },
    {
      "cell_type": "code",
      "source": [
        "nascimentos = {}\n",
        "nascimentos['João']= 1965\n",
        "nascimentos['Maria']= 1970\n",
        "nascimentos['Joana']= 1962\n",
        "nascimentos['José']= 1973\n",
        "print(nascimentos)\n",
        "del nascimentos['João'] # retira algum nascimento do dicionário:\n",
        "print(nascimentos)\n",
        "print(nascimentos.keys()) # exibe todas as chaves\n",
        "print(nascimentos.values()) # exibe os valores de todas as chaves\n",
        "'Aparecida' in nascimentos # verifica se há a chave no dicionário"
      ],
      "metadata": {
        "colab": {
          "base_uri": "https://localhost:8080/"
        },
        "id": "nf0mnlXivl0V",
        "outputId": "0228c409-3ff6-4cd0-c599-3e2fac07d369"
      },
      "execution_count": null,
      "outputs": [
        {
          "output_type": "stream",
          "name": "stdout",
          "text": [
            "{'João': 1965, 'Maria': 1970, 'Joana': 1962, 'José': 1973}\n",
            "{'Maria': 1970, 'Joana': 1962, 'José': 1973}\n",
            "dict_keys(['Maria', 'Joana', 'José'])\n",
            "dict_values([1970, 1962, 1973])\n"
          ]
        },
        {
          "output_type": "execute_result",
          "data": {
            "text/plain": [
              "False"
            ]
          },
          "metadata": {},
          "execution_count": 30
        }
      ]
    },
    {
      "cell_type": "markdown",
      "source": [
        "### Lógica Condicional\n",
        "\n",
        " <p align=\"justify\">  Em Python, os operadores condicionais são o $\\textit{if}$ e   $\\textit{else}$. Existe a ramificação  $\\textit{elif}$, junção de  $\\textit{if}$ com  $\\textit{else}$ para indentar os condicionais em sequência lógica. Ademais, não é necessária a utilização do comando  $\\textit{end}$, por exemplo:"
      ],
      "metadata": {
        "id": "xdgbmuQ4JKfl"
      }
    },
    {
      "cell_type": "code",
      "source": [
        "num1=5\n",
        "num2=5\n",
        "if num2 > num1:\n",
        "  num = 'Number 1 is smaller than number 2.'\n",
        "elif num1 == num2:\n",
        "  num = 'Number 1 is iqual number 2.'\n",
        "else:\n",
        "  num = 'Number 1 is than number 2.'\n",
        "print(num)"
      ],
      "metadata": {
        "colab": {
          "base_uri": "https://localhost:8080/"
        },
        "id": "p0Q29WrTEWhC",
        "outputId": "5d090d80-9b12-4723-cc3c-7f7ba2ef6b73"
      },
      "execution_count": 7,
      "outputs": [
        {
          "output_type": "stream",
          "name": "stdout",
          "text": [
            "Number 1 is iqual number 2.\n"
          ]
        }
      ]
    },
    {
      "cell_type": "markdown",
      "source": [
        "### Laços de Repetições\n",
        "Uma das instruções mais utilizadas, em diversos tipos de programações, é a ***for***. Em Python, escreve-se da seguinte maneira:"
      ],
      "metadata": {
        "id": "uJIEbqTUJk5X"
      }
    },
    {
      "cell_type": "code",
      "source": [
        "m = 1\n",
        "n = 7\n",
        "p=1\n",
        "for i in range(m, n, p): #range(inicio, fim, passo)\n",
        "  print(i)"
      ],
      "metadata": {
        "colab": {
          "base_uri": "https://localhost:8080/"
        },
        "id": "a5204edfKkEO",
        "outputId": "982941e5-76cd-45bc-9223-2d579902d73e"
      },
      "execution_count": null,
      "outputs": [
        {
          "output_type": "stream",
          "name": "stdout",
          "text": [
            "1\n",
            "2\n",
            "3\n",
            "4\n",
            "5\n",
            "6\n"
          ]
        }
      ]
    },
    {
      "cell_type": "code",
      "source": [
        "x = 'Apostila'\n",
        "for i in x:\n",
        "  print(i)"
      ],
      "metadata": {
        "colab": {
          "base_uri": "https://localhost:8080/"
        },
        "id": "V_LHZD9CMFDi",
        "outputId": "858f560f-f2e1-425a-d534-89bbf7bc710a"
      },
      "execution_count": null,
      "outputs": [
        {
          "output_type": "stream",
          "name": "stdout",
          "text": [
            "A\n",
            "p\n",
            "o\n",
            "s\n",
            "t\n",
            "i\n",
            "l\n",
            "a\n"
          ]
        }
      ]
    },
    {
      "cell_type": "markdown",
      "source": [
        " <p align=\"justify\"> O laço $\\textit{for}$ é potencializado por meio das instruções $\\textit{break}$ e $\\textit{continue}$. A instrução $\\textit{break}$ interrompe o laço e a instrução $\\textit{continue}$ não termina o laço, apenas passa à próxima iteração, por exemplo:\n",
        "\n"
      ],
      "metadata": {
        "id": "tAzlg42uMkIx"
      }
    },
    {
      "cell_type": "code",
      "source": [
        "for i in  range (10): # range(stop)\n",
        "  if i==0:\n",
        "    print('\\ni = ', i)\n",
        "  elif i==1:\n",
        "    continue\n",
        "    print('\\ni = ', i)\n",
        "  elif i==2:\n",
        "    print('\\ni = ', i)\n",
        "    break"
      ],
      "metadata": {
        "colab": {
          "base_uri": "https://localhost:8080/"
        },
        "id": "-n85UqFwM-9Q",
        "outputId": "9712be13-79d7-40f3-f900-8d2eb5c22bed"
      },
      "execution_count": null,
      "outputs": [
        {
          "output_type": "stream",
          "name": "stdout",
          "text": [
            "\n",
            "i =  0\n",
            "\n",
            "i =  2\n"
          ]
        }
      ]
    },
    {
      "cell_type": "markdown",
      "source": [
        "A instrução ***while*** é realizada de forma semelhande as anteriores, por exemplo:"
      ],
      "metadata": {
        "id": "xSfzUA_HRdPf"
      }
    },
    {
      "cell_type": "code",
      "source": [
        "i=0\n",
        "while i <=1:\n",
        "  print('%.1f ' %(i))\n",
        "  i += 0.1\n",
        "  if i>=0.8:\n",
        "    break"
      ],
      "metadata": {
        "colab": {
          "base_uri": "https://localhost:8080/"
        },
        "id": "KZ9cwvxeSFcE",
        "outputId": "639ff212-52e8-420a-9e93-39017e428c73"
      },
      "execution_count": null,
      "outputs": [
        {
          "output_type": "stream",
          "name": "stdout",
          "text": [
            "0.0 \n",
            "0.1 \n",
            "0.2 \n",
            "0.3 \n",
            "0.4 \n",
            "0.5 \n",
            "0.6 \n",
            "0.7 \n",
            "0.8 \n"
          ]
        }
      ]
    },
    {
      "cell_type": "markdown",
      "source": [
        "Um vetor semelhante pode ser gerado utilizando o comando *linspace* da biblioteca ***NumPy***."
      ],
      "metadata": {
        "id": "N4WRp0C2-DYS"
      }
    },
    {
      "cell_type": "code",
      "source": [
        "passo=numpy.linspace(0,1,11)\n",
        "print(passo)\n"
      ],
      "metadata": {
        "colab": {
          "base_uri": "https://localhost:8080/"
        },
        "id": "WokqgfiBTSrP",
        "outputId": "66a1101f-ca36-4278-dcdd-942d2b26293f"
      },
      "execution_count": null,
      "outputs": [
        {
          "output_type": "stream",
          "name": "stdout",
          "text": [
            "[0.  0.1 0.2 0.3 0.4 0.5 0.6 0.7 0.8 0.9 1. ]\n"
          ]
        }
      ]
    },
    {
      "cell_type": "markdown",
      "source": [
        "### Geração de Gráficos\n",
        "\n",
        " A biblioteca  $\\textbf{Matplotlib}$ foi desenvolvida para visualizações, estáticas, animadas ou interativas, em Python. Uma dos módulos mais utilizados nesta biblioteca é o  [$\\textit{Pyplot}$](https://matplotlib.org/stable/tutorials/pyplot.html#sphx-glr-tutorials-pyplot-py) [[3]](#ref3). Tal módulo  apresenta uma coleção de funções que simplificam o processo de criação e modificação de gráficos. Com efeito, ao importar $\\textit{matplotlib.pyplot}$, importa-se uma coleção de funções, por exemplo:\n",
        "\n",
        "```\n",
        "plot(): gráfico de linha ou gráfico de dispersão;\n",
        "hist(): histograma;\n",
        "scatter(): gráfico de dispersão;\n",
        "bar(): gráfico de barras;\n",
        "pie(): gráfico de pizza;\n",
        "xlabel(): rótulo para o eixo x;\n",
        "ylabel(): rótulo para o eixo y;\n",
        "title(): título do gráfico;\n",
        "legend():legenda ao gráfico;;\n",
        "xlim(): limite para o eixo x;\n",
        "ylim(): limite para o eixo y.\n",
        "\n",
        "```\n"
      ],
      "metadata": {
        "id": "uSEa0hwxAKST"
      }
    },
    {
      "cell_type": "markdown",
      "source": [
        " <p align=\"justify\"> Pode-se gerar, por exemplo, gráficos de três categorias de variáveis com os valores, repectivos, de cada uma delas."
      ],
      "metadata": {
        "id": "jnimsPKlT3Zs"
      }
    },
    {
      "cell_type": "code",
      "source": [
        "import matplotlib.pyplot as plt\n",
        "categorias = ['A', 'B', 'C']\n",
        "valores = [1, 10, 100]\n",
        "plt.figure(figsize=(9, 3))\n",
        "plt.subplot(131)\n",
        "plt.bar(categorias, valores)\n",
        "plt.subplot(132)\n",
        "plt.scatter(categorias, valores)\n",
        "plt.subplot(133)\n",
        "plt.plot(categorias, valores)\n",
        "plt.suptitle('Exibição das Categorias')\n",
        "plt.show()"
      ],
      "metadata": {
        "id": "Ca4n7dOiBF9L",
        "colab": {
          "base_uri": "https://localhost:8080/",
          "height": 321
        },
        "outputId": "e41d9132-d1d8-4324-fc33-ff1d631af889"
      },
      "execution_count": null,
      "outputs": [
        {
          "output_type": "display_data",
          "data": {
            "text/plain": [
              "<Figure size 900x300 with 3 Axes>"
            ],
            "image/png": "[encoded data removed]"
          },
          "metadata": {}
        }
      ]
    },
    {
      "cell_type": "markdown",
      "source": [
        "### Geração de Funções\n",
        "\n",
        "\n",
        " <p align=\"justify\">  Uma função é um bloco de código independente que pode ser executado inúmeras vezes em um programa. De modo que a função receba entradas (parâmetros), processe os dados e retorne uma saída.\n",
        "\n",
        " <p align=\"justify\"> A sintaxe de uma função é definida por três partes: nome, parâmetros e corpo. A estrutura básica é a seguinte:\n",
        "\n",
        "\n",
        "```\n",
        "def nome_da_funcao(parametros):\n",
        "    instrução 1\n",
        "    instrução 2\n",
        "    ...\n",
        "    return valor (opcional)\n",
        "\n",
        "```\n",
        "\n",
        "  <p align=\"justify\">  No código abaixo, há um exemplo de declaração de função.\n"
      ],
      "metadata": {
        "id": "g95JkztgwjsX"
      }
    },
    {
      "cell_type": "code",
      "source": [
        "def hello(first_name, second_name):\n",
        "  print('Welcome',first_name, '', second_name)"
      ],
      "metadata": {
        "id": "oELTh2MpwjN4"
      },
      "execution_count": 5,
      "outputs": []
    },
    {
      "cell_type": "markdown",
      "source": [
        "Para chamar a função, basta inserir os parâmetros:"
      ],
      "metadata": {
        "id": "4HfMxVus0_oC"
      }
    },
    {
      "cell_type": "code",
      "source": [
        "hello('John','Stilgar')"
      ],
      "metadata": {
        "colab": {
          "base_uri": "https://localhost:8080/"
        },
        "id": "rFLWWOm9063_",
        "outputId": "a52a4098-78f4-48c8-ab46-81c83c5d17c3"
      },
      "execution_count": 6,
      "outputs": [
        {
          "output_type": "stream",
          "name": "stdout",
          "text": [
            "Welcome John  Stilgar\n"
          ]
        }
      ]
    },
    {
      "cell_type": "markdown",
      "source": [
        "Há, ainda, a possibilidade de se programar a função para que a mesma retorne parâmetros:  "
      ],
      "metadata": {
        "id": "atS05BLw2TMa"
      }
    },
    {
      "cell_type": "code",
      "source": [
        "def function(num1,num2):\n",
        "  if num2 > num1:\n",
        "    num = 'Number 1 is smaller than number 2.'\n",
        "  elif num1 == num2:\n",
        "    num = 'Number 1 is iqual number 2.'\n",
        "  else:\n",
        "    num = 'Number 1 is than number 2.'\n",
        "  return num"
      ],
      "metadata": {
        "id": "LzI7nkpL3AV3"
      },
      "execution_count": 9,
      "outputs": []
    },
    {
      "cell_type": "code",
      "source": [
        "function(5,5)"
      ],
      "metadata": {
        "colab": {
          "base_uri": "https://localhost:8080/",
          "height": 37
        },
        "id": "J4wgFic03veh",
        "outputId": "21dcbb60-4c50-4262-ca11-ef03c986de64"
      },
      "execution_count": 10,
      "outputs": [
        {
          "output_type": "execute_result",
          "data": {
            "text/plain": [
              "'Number 1 is iqual number 2.'"
            ],
            "application/vnd.google.colaboratory.intrinsic+json": {
              "type": "string"
            }
          },
          "metadata": {},
          "execution_count": 10
        }
      ]
    },
    {
      "cell_type": "markdown",
      "source": [
        "##1.4 A Linguagem Python em Sistemas de Controle\n",
        "\n",
        "\n",
        "Com a utilização das bibliotecas desenvolvidas em Python, em especial, o [Python Control Systems Library](https://python-control.readthedocs.io/en/0.10.0/) [[4]](#ref4), é possível estudar, visualizar e aprofundar os mais diversos conceitos teóricos da *Teoria de Controle Clássico*. Conceitos esses que abrangem, por exemplo:\n",
        "\n",
        "\n",
        "*   transformadas de Laplace e álgebra matricial;\n",
        "*   funções de transferência;\n",
        "*   análise no domínio do tempo de sistemas de controle;\n",
        "*  características de sistemas realimentados\n",
        "*  critérios de estabilidade.\n",
        "\n",
        "\n",
        " <p align=\"justify\">  Ao longo do presente estudo serão apresentadas as principais $\\textit{ferramentas/funções}$ em $\\textbf{Python}$ relacionados a $\\textit{Teoria de Controle Clássico}$. O arcabouço teórico supracitado será disponibilizado ao longo de $\\textit{Notebooks/Cadernos}$ no estudo e solução de problemas práticos neste ramo da Engenharia.\n"
      ],
      "metadata": {
        "id": "j_YaFa4YW0gf"
      }
    },
    {
      "cell_type": "markdown",
      "source": [
        "## Referências\n",
        "<a name=\"ref1\"></a>\n",
        "1 Google (2024). Google Colaboratory. Último acesso em 28 de novembro, 2024, de https://colab.research.google.com/\n",
        "\n",
        "<a name=\"ref2\"></a>\n",
        "2  Comunidade Python (2024). O Python Package Index (PyPI) . Último acesso em 28 de novembro, 2024, de https://pypi.org\n",
        "\n",
        "\n",
        "<a name=\"ref3\"></a>\n",
        "3 John Hunter, Darren Dale, Eric Firing, Michael Droettboom and the Matplotlib development team (2012–2024). Matplotlib 3.9.2 documentation. Último acesso em 28 de novembro, 2024, de https://matplotlib.org/stable/\n",
        "\n",
        "<a name=\"ref4\"></a>\n",
        "4 Python-control.org. Revision (2023). Python Control Systems Library. Último acesso em 28 de novembro, 2024, de https://python-control.readthedocs.io/en/0.10.0/#\n"
      ],
      "metadata": {
        "id": "tkSfOk-rqAra"
      }
    }
  ]
}