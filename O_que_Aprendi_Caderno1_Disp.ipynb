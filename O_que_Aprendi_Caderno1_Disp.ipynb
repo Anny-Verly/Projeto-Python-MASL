{
  "cells": [
    {
      "cell_type": "markdown",
      "metadata": {
        "colab_type": "text",
        "id": "view-in-github"
      },
      "source": [
        "<a href=\"https://colab.research.google.com/github/Anny-Verly/Projeto-Python-MASL/blob/main/O_que_Aprendi_Caderno1_Disp.ipynb\" target=\"_parent\"><img src=\"https://colab.research.google.com/assets/colab-badge.svg\" alt=\"Open In Colab\"/></a>"
      ]
    },
    {
      "cell_type": "markdown",
      "metadata": {
        "id": "lobnV3QM-X5g"
      },
      "source": [
        "\n",
        "#  <center>  </center>\n",
        "\n",
        "# <center>  O que Aprendi: Caderno 1 </center>\n",
        "\n",
        "\n",
        "\n",
        "<p align=\"justify\">  O Caderno 1 apresenta os principais tópicos  acerca da linguagem de programação Python em ambiente Scilab. São discutidas operações lógicas,  operadores de uso comum,  constantes especiais, algumas $bibliotecas$ e $funções$ básicas, comumentes empregadas na eleborações de lógicas de promação. Com o intuito de consolidar os conceitos apresentados, o presente $notebook$ propõe exercícios.\n",
        "\n",
        "\n",
        "\n",
        "## **Exercício 1**\n",
        "\n",
        "<p align=\"justify\"> Elabore um algoritmo  a partir do Fluxograma apresentado no $link$ abaixo.\n",
        "\n",
        "<center>\n",
        "\n",
        " [ Algoritmo do Exercício 1]( https://github.com/Anny-Verly/Projeto-Python-MASL/blob/main/FiguraC1.1.JPG) </center>\n",
        "\n",
        "\n"
      ]
    },
    {
      "cell_type": "code",
      "execution_count": null,
      "metadata": {
        "colab": {
          "base_uri": "https://localhost:8080/"
        },
        "id": "JscVJ-fypVzY",
        "outputId": "75f277f5-d879-400b-9aba-2e8e7647b4de"
      },
      "outputs": [
        {
          "name": "stdout",
          "output_type": "stream",
          "text": [
            "Mounted at /content/drive\n"
          ]
        }
      ],
      "source": [
        "from google.colab import drive\n",
        "drive.mount('/content/drive')"
      ]
    },
    {
      "cell_type": "markdown",
      "metadata": {
        "id": "qBSRy3PWH7pT"
      },
      "source": [
        "## **Exercício 2**\n",
        "\n",
        "\n",
        "<p align=\"justify\"> No instante $t=0$ (min) um tanque contém $Q_{0}$ (lb) de sal dissolvido em $100$ (gal) (cerca de 455 litros). Suponha que água contendo $1/4$ (lb) (cerca de 113g de sal por galão) está entrando no tanque a uma taxa de $\\textit{r}$ galões por minuto, e que o líquido, bem misturado, está saindo do tanque à mesma taxa. O fenômeno é ilustrado pela figura do $link$ abaixo.\n",
        "\n",
        "<center>\n",
        "\n",
        " [ Esquema Ilustrativo do Exercício 2]( https://github.com/Anny-Verly/Projeto-Python-MASL/blob/main/FiguraC.1.2.jpg) </center>\n",
        "\n",
        "<p align=\"justify\"> A Equação abaixo expressa a quantidade de sal $Q(t)$ no tanque em qualquer instante $t$, dado em minutos:\n",
        "<center>\n",
        "$ Q(t) = 25 + (Q_{0} - 25)e^{-\\frac{rt}{100}}$. </center>\n",
        "\n",
        "<p align=\"justify\"> Desenvolva um programa em Scilab que simule a quantidade de sal presente no tanque. Faça um único gráfico contendo $4$ curvas com as condições abaixo. Interprete os fenômenos ilustrados.\n",
        "\n",
        "\n",
        "*    **Curva 1**: Deverá representar a quantidade de sal em 150 minutos com r = 3 e Q0 = 50 lb.\n",
        "\n",
        "*   **Curva 2**: Deverá representar a quantidade de sal em 150 minutos com r = 3 e Q0 = 40 lb.\n",
        "\n",
        "* **Curva 3**: Deverá representar a quantidade de sal em 150 minutos com r = 3 e Q0 = 25 lb.\n",
        "\n",
        "* **Curva 4**: Deverá representar a quantidade de sal em 150 minutos com r = 3 e Q0 = 10 lb."
      ]
    }
  ],
  "metadata": {
    "colab": {
      "include_colab_link": true,
      "provenance": []
    },
    "kernelspec": {
      "display_name": "Python 3",
      "name": "python3"
    },
    "language_info": {
      "name": "python"
    }
  },
  "nbformat": 4,
  "nbformat_minor": 0
}
