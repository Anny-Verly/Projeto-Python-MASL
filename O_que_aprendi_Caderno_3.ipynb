{
  "nbformat": 4,
  "nbformat_minor": 0,
  "metadata": {
    "colab": {
      "provenance": [],
      "include_colab_link": true
    },
    "kernelspec": {
      "name": "python3",
      "display_name": "Python 3"
    },
    "language_info": {
      "name": "python"
    }
  },
  "cells": [
    {
      "cell_type": "markdown",
      "metadata": {
        "id": "view-in-github",
        "colab_type": "text"
      },
      "source": [
        "<a href=\"https://colab.research.google.com/github/Anny-Verly/Projeto-Python-MASL/blob/main/O_que_aprendi_Caderno_3.ipynb\" target=\"_parent\"><img src=\"https://colab.research.google.com/assets/colab-badge.svg\" alt=\"Open In Colab\"/></a>"
      ]
    },
    {
      "cell_type": "markdown",
      "source": [
        "#  <center>  </center>\n",
        "\n",
        "# <center>  O que Aprendi: Caderno 3 </center> - Modelagem caixa branca e caixa preta de sistemas de primeira e de segunda ordem\n",
        "\n",
        "\n",
        "<p align=\"justify\">  O Caderno 2 apresenta uma discussão acerca de funções de transferências (FT's) e representações em Espaço de Estados (E.E). As principais funções utilizadas para gerar tais modelos, em Python, são apresentadas. Com o intuito de aplicar o conhecimento adquirido, o presente $notebook$ propõe os seguintes exercícios.\n",
        "\n",
        "\n",
        "<a name=\"ex1\"></a>\n",
        "## **Exercício 1**\n",
        "\n",
        "<p align=\"justify\"> Um sistema de controle de posição converte um comando de entrada de posição em uma resposta de saída de posição. Os sistemas de controle de posição encontram uma vasta aplicação em antenas, braços robóticos e acionadores de disco de computadores \\cite{nise}.\n",
        "\n",
        "<p align=\"justify\"> As figuras C2.1 e C2.2 apresentam, respectivamente, o esquema de funcionamento e o diagrama de blocos de um esquema simplificado de controle de posição. O objetivo é fazer com que a saída dada em graus angulares, $\\theta_{s}$, siga o ângulo de entrada do potenciômetro, $\\theta_{en}$. O potenciômetro de entrada converte o deslocamento angular, $\\theta_{en}$, em uma tensão elétrica. Analogamente, o deslocamento angular da saída, $\\theta_{s}$, é convertido em tensão elétrica por meio do potenciômetro da malha de realimentação. Amplificadores de sinal de potência ressaltam a diferença entre as tensões de entrada e de saída. Tal sinal de atuação amplificado aciona o conjunto motor/carga/engrenagens.\n",
        "\n",
        "<center>   \n",
        "<p align=\"center\">\n",
        "<img src=\"https://github.com/Anny-Verly/Projeto-Python-MASL/blob/main/Imagens_Caderno_2/Figura%20C2.1.jpg?raw=true\"\n",
        "width=\"800\" height=\"\" style=\"display: block; margin: 0 auto\" />\n",
        "</p>  Figura C2.1: Diagrama de blocos de um sistemas de controle de posição de ângulo de azimute. </center>\n",
        "\n",
        "<center>   \n",
        "<p align=\"center\">\n",
        "<img src=\"https://github.com/Anny-Verly/Projeto-Python-MASL/blob/main/Imagens_Caderno_2/Figura%20C2.2.png?raw=true\"\n",
        "width=\"800\" height=\"\" style=\"display: block; margin: 0 auto\" />\n",
        "</p>  Figura C2.2: Esquema de funcionamento de um sistema de controle de posição de ângulo de azimute. </center>"
      ],
      "metadata": {
        "id": "mstnMsEPBh9g"
      }
    },
    {
      "cell_type": "markdown",
      "source": [
        "\n",
        "<p align=\"justify\"> $\\textbf{1.1)}$ Por meio de programação em Python, declare todas as funções de transferência (FTs) apresentadas no diagrama de blocos da Figura C2.2.\n"
      ],
      "metadata": {
        "id": "ldMUdD7ylbI7"
      }
    },
    {
      "cell_type": "code",
      "source": [
        "pip install control"
      ],
      "metadata": {
        "collapsed": true,
        "colab": {
          "base_uri": "https://localhost:8080/"
        },
        "id": "wMUp3e2Jnrt7",
        "outputId": "4c7105d1-ff8a-4de3-d055-0adb9dfe759c"
      },
      "execution_count": null,
      "outputs": [
        {
          "output_type": "stream",
          "name": "stdout",
          "text": [
            "Collecting control\n",
            "  Downloading control-0.10.1-py3-none-any.whl.metadata (7.6 kB)\n",
            "Requirement already satisfied: numpy>=1.23 in /usr/local/lib/python3.10/dist-packages (from control) (1.26.4)\n",
            "Requirement already satisfied: scipy>=1.8 in /usr/local/lib/python3.10/dist-packages (from control) (1.13.1)\n",
            "Requirement already satisfied: matplotlib>=3.6 in /usr/local/lib/python3.10/dist-packages (from control) (3.7.1)\n",
            "Requirement already satisfied: contourpy>=1.0.1 in /usr/local/lib/python3.10/dist-packages (from matplotlib>=3.6->control) (1.3.0)\n",
            "Requirement already satisfied: cycler>=0.10 in /usr/local/lib/python3.10/dist-packages (from matplotlib>=3.6->control) (0.12.1)\n",
            "Requirement already satisfied: fonttools>=4.22.0 in /usr/local/lib/python3.10/dist-packages (from matplotlib>=3.6->control) (4.54.1)\n",
            "Requirement already satisfied: kiwisolver>=1.0.1 in /usr/local/lib/python3.10/dist-packages (from matplotlib>=3.6->control) (1.4.7)\n",
            "Requirement already satisfied: packaging>=20.0 in /usr/local/lib/python3.10/dist-packages (from matplotlib>=3.6->control) (24.1)\n",
            "Requirement already satisfied: pillow>=6.2.0 in /usr/local/lib/python3.10/dist-packages (from matplotlib>=3.6->control) (10.4.0)\n",
            "Requirement already satisfied: pyparsing>=2.3.1 in /usr/local/lib/python3.10/dist-packages (from matplotlib>=3.6->control) (3.1.4)\n",
            "Requirement already satisfied: python-dateutil>=2.7 in /usr/local/lib/python3.10/dist-packages (from matplotlib>=3.6->control) (2.8.2)\n",
            "Requirement already satisfied: six>=1.5 in /usr/local/lib/python3.10/dist-packages (from python-dateutil>=2.7->matplotlib>=3.6->control) (1.16.0)\n",
            "Downloading control-0.10.1-py3-none-any.whl (549 kB)\n",
            "\u001b[2K   \u001b[90m━━━━━━━━━━━━━━━━━━━━━━━━━━━━━━━━━━━━━━━━\u001b[0m \u001b[32m549.6/549.6 kB\u001b[0m \u001b[31m6.8 MB/s\u001b[0m eta \u001b[36m0:00:00\u001b[0m\n",
            "\u001b[?25hInstalling collected packages: control\n",
            "Successfully installed control-0.10.1\n"
          ]
        }
      ]
    },
    {
      "cell_type": "code",
      "source": [
        "#1.1) Respostas:\n",
        "import math\n",
        "import control as ctl\n",
        "#1.1)Declarando as FT's:\n",
        "s = ctl.tf('s')\n",
        "#Potênciômetro de Entrada:\n",
        "FT1= ctl.tf(1,math.pi)\n",
        "print(FT1)\n",
        "#Pré-Amplificador:\n",
        "K=1\n",
        "FT2= ctl.tf([K],1)\n",
        "print(FT2)\n",
        "#Aplificador de Potência:\n",
        "FT3=ctl.tf([100],[1,100])\n",
        "print(FT3)\n",
        "#Motor, Carga e Engrenagens:\n",
        "FT4=ctl.tf(0.2083,[1,1.71,0])\n",
        "print(FT4)\n",
        "#Potênciômetro de Saída:\n",
        "FT5=ctl.tf(1,math.pi)\n",
        "print(FT5)"
      ],
      "metadata": {
        "colab": {
          "base_uri": "https://localhost:8080/"
        },
        "id": "3fQtPUrdlpQl",
        "outputId": "71978932-743c-4fbe-9df1-cf8b7f5bcd90",
        "collapsed": true
      },
      "execution_count": null,
      "outputs": [
        {
          "output_type": "stream",
          "name": "stdout",
          "text": [
            "<TransferFunction>: sys[0]\n",
            "Inputs (1): ['u[0]']\n",
            "Outputs (1): ['y[0]']\n",
            "\n",
            "\n",
            "  1\n",
            "-----\n",
            "3.142\n",
            "\n",
            "<TransferFunction>: sys[1]\n",
            "Inputs (1): ['u[0]']\n",
            "Outputs (1): ['y[0]']\n",
            "\n",
            "\n",
            "1\n",
            "-\n",
            "1\n",
            "\n",
            "<TransferFunction>: sys[2]\n",
            "Inputs (1): ['u[0]']\n",
            "Outputs (1): ['y[0]']\n",
            "\n",
            "\n",
            "  100\n",
            "-------\n",
            "s + 100\n",
            "\n",
            "<TransferFunction>: sys[3]\n",
            "Inputs (1): ['u[0]']\n",
            "Outputs (1): ['y[0]']\n",
            "\n",
            "\n",
            "   0.2083\n",
            "------------\n",
            "s^2 + 1.71 s\n",
            "\n",
            "<TransferFunction>: sys[4]\n",
            "Inputs (1): ['u[0]']\n",
            "Outputs (1): ['y[0]']\n",
            "\n",
            "\n",
            "  1\n",
            "-----\n",
            "3.142\n",
            "\n"
          ]
        }
      ]
    },
    {
      "cell_type": "markdown",
      "source": [
        "\n",
        "<p align=\"justify\"> $\\textbf{1.2)}$ Utilize as FT's declaradas no item 1.1 para realizar a redução do diagrama de blocos da Figura C2.2."
      ],
      "metadata": {
        "id": "VnjE1aBYenxK"
      }
    },
    {
      "cell_type": "code",
      "source": [
        "FT6=FT2*FT3*FT4\n",
        "print(FT6)\n",
        "FT7=ctl.feedback(FT6,FT5,-1)\n",
        "print(FT7)\n",
        "FT_tot=FT7*FT1\n",
        "print(FT_tot)"
      ],
      "metadata": {
        "id": "wd11Z0WOrLqm",
        "colab": {
          "base_uri": "https://localhost:8080/"
        },
        "collapsed": true,
        "outputId": "e28c99ee-1001-40e5-a110-9adff7da58f4"
      },
      "execution_count": null,
      "outputs": [
        {
          "output_type": "stream",
          "name": "stdout",
          "text": [
            "<TransferFunction>: sys[6]\n",
            "Inputs (1): ['u[0]']\n",
            "Outputs (1): ['y[0]']\n",
            "\n",
            "\n",
            "         20.83\n",
            "-----------------------\n",
            "s^3 + 101.7 s^2 + 171 s\n",
            "\n",
            "<TransferFunction>: sys[7]\n",
            "Inputs (1): ['u[0]']\n",
            "Outputs (1): ['y[0]']\n",
            "\n",
            "\n",
            "                 65.44\n",
            "---------------------------------------\n",
            "3.142 s^3 + 319.5 s^2 + 537.2 s + 20.83\n",
            "\n",
            "<TransferFunction>: sys[8]\n",
            "Inputs (1): ['u[0]']\n",
            "Outputs (1): ['y[0]']\n",
            "\n",
            "\n",
            "               65.44\n",
            "------------------------------------\n",
            "9.87 s^3 + 1004 s^2 + 1688 s + 65.44\n",
            "\n"
          ]
        }
      ]
    },
    {
      "cell_type": "markdown",
      "source": [
        "<a name=\"ex2\"></a>\n",
        "## **Exercício 2**\n",
        "\n",
        "Utilizando programação em Python, converta a FT da planta obtida no [Exercício 1](#ex1) (item 1.2) em uma representação de espaço de estados. Depois, realize a conversão E.E --> FT."
      ],
      "metadata": {
        "id": "qX24vrYpfMvO"
      }
    },
    {
      "cell_type": "code",
      "source": [
        "SS=ctl.tf2ss(FT_tot)\n",
        "print(SS)\n",
        "TF=ctl.ss2tf(SS)\n",
        "print(TF)"
      ],
      "metadata": {
        "colab": {
          "base_uri": "https://localhost:8080/"
        },
        "collapsed": true,
        "id": "YIntWsTegEmX",
        "outputId": "932859c2-422a-43f7-a8d2-bf5c70487624"
      },
      "execution_count": null,
      "outputs": [
        {
          "output_type": "stream",
          "name": "stdout",
          "text": [
            "<StateSpace>: sys[8]\n",
            "Inputs (1): ['u[0]']\n",
            "Outputs (1): ['y[0]']\n",
            "States (3): ['x[0]', 'x[1]', 'x[2]']\n",
            "\n",
            "A = [[-101.71       -171.           -6.63039493]\n",
            "     [   1.            0.            0.        ]\n",
            "     [   0.            1.            0.        ]]\n",
            "\n",
            "B = [[1.]\n",
            "     [0.]\n",
            "     [0.]]\n",
            "\n",
            "C = [[0.         0.         6.63039493]]\n",
            "\n",
            "D = [[0.]]\n",
            "\n",
            "<TransferFunction>: sys[10]\n",
            "Inputs (1): ['u[0]']\n",
            "Outputs (1): ['y[0]']\n",
            "\n",
            "\n",
            "     -1.421e-13 s + 6.63\n",
            "------------------------------\n",
            "s^3 + 101.7 s^2 + 171 s + 6.63\n",
            "\n"
          ]
        }
      ]
    },
    {
      "cell_type": "markdown",
      "source": [
        "## **Exercício 3**\n",
        "\n",
        "<p align=\"justify\"> Obtenha um modelo de estado para o sistema físico não linear descrito pela equação (citar):\n",
        "\n",
        "\n",
        "$$ y^{n}(t)=f_1[t,y(t),\\dot{y}(t), ...,y^{n-1}(t),u(t) ] -f_2[t,y(t),\\dot{y}(t), ...,y^{n-2}(t)]\\dot{u}(t); $$\n",
        "\n",
        "<p align=\"justify\"> em que, $y(t)$ e $u(t)$ são, respectivamente saída e entrada (escalares).\n",
        "\n",
        "<p align=\"justify\"> $Sugestão$: Utilize como variável de estado a relação $ x_{n}=y^{n-1}-f_2[t,y,\\dot{y}, ...,y^{n-2}]u.$"
      ],
      "metadata": {
        "id": "wG4NVZ81YxiR"
      }
    },
    {
      "cell_type": "markdown",
      "source": [
        "<p align=\"justify\"> $\\textbf{Resposta}$: Se $x_1(t)=y(t)$, $x_2(t)=\\dot{y}(t)$, $x_3(t)=\\ddot{y}(t)$, $x_4(t)=\\dddot{y}(t)$, $\\dots$ e $ x_{n}=y^{n-1}-f_2[t,y,\\dot{y}, ...,y^{n-2}]u$,  então:\n",
        "\n",
        "$\\dot{x}_{1}(t)=x_{2}(t)$\n",
        "\n",
        "$\\dot{x}_{2}(t)=x_{3}(t)$\n",
        "\n",
        "$\\dot{x}_{3}(t)=x_{4}(t)$\n",
        "\n",
        "$\\vdots$\n",
        "\n",
        "<p align=\"justify\"> $\\dot{x}_{n-1}(t)=x_{n}(t)= y^{n-1}-f_2[t,y,\\dot{y}, ...,y^{n-2}]u$\n",
        "\n",
        "<p align=\"justify\"> $\\dot{x}_{n}(t)= y^{n}-\\dot{f}_2[t,y,\\dot{y}, ...,y^{n-2}]u - {f}_2[t,y,\\dot{y}, ...,y^{n-2}]\\dot{u}$\n",
        "\n",
        "ou ainda,\n",
        "\n",
        "\n",
        "$\\dot{x}_{n}(t)$ = $ f_1[t,y(t),\\dot{y}(t), ...,y^{n-1}(t),u(t) ] -f_2[t,y(t),\\dot{y}(t), ...,y^{n-2}(t)]\\dot{u}(t) - \\dot{f}_2[t,y,\\dot{y}, ...,y^{n-2}]u - {f}_2[t,y,\\dot{y}, ...,y^{n-2}]\\dot{u}$\n",
        "\n",
        "resultando em:\n",
        "\n",
        "\n",
        " $\\dot{x}_{n}(t)$ = $ f_1[t,y(t),\\dot{y}(t), ...,y^{n-1}(t),u(t) ] -2f_2[t,y(t),\\dot{y}(t), ...,y^{n-2}(t)]\\dot{u}(t) - \\dot{f}_2[t,y,\\dot{y}, ...,y^{n-2}]u$.\n",
        "\n",
        "\n",
        "\n"
      ],
      "metadata": {
        "id": "RzRQtg_rh_XV"
      }
    },
    {
      "cell_type": "markdown",
      "source": [
        "<a name=\"ex4\"></a>\n",
        "## **Exercício 4**\n",
        "\n",
        "<p align=\"justify\"> Considere o sistema representado pela equação diferencial, conhecida por equação de Van der Pol:\n",
        "\n",
        "\n",
        "$$ m \\ddot{x}+2𝜺(x^2-1)\\dot{x} +kx=0, $$\n",
        "\n",
        "<p align=\"justify\"> em que onde ${\\displaystyle x(t)}$ é a posição do oscilador e 𝜺  é um parâmetro que indica a não linearidade a força do  amortecimento. A equação de Van der Pol é utilizada para o estudo de osciladores com amortecimento não linear, por exemplo.\n",
        "\n",
        "<p align=\"justify\"> Considerando que o modelo de Van der Pol se trata de uma equação diferencial ordinária, autônoma, não linear de segunda ordem, pede-se:\n",
        "\n",
        "<p align=\"justify\"> 4.1) Desenvolva o modelo não linear em espaço de estados considerando: $x_1=x$ e $x_2=\\dot{x}$."
      ],
      "metadata": {
        "id": "301_L_ATXpAH"
      }
    },
    {
      "cell_type": "markdown",
      "source": [
        "<p align=\"justify\"> $\\textbf{Resposta}$: Se $x_1(t)=x(t)$, $x_2(t)=\\dot{x}(t)$, então:\n",
        "\n",
        "$\\dot{x}_{1}(t)=x_2(t)$\n",
        "\n",
        "$\\dot{x}_{2}(t)= \\frac{-kx_{1}(t) -2𝜺(x_1^2(t)-1)x_{2}(t)}{m} $"
      ],
      "metadata": {
        "id": "TCzS-NtAQ-Dz"
      }
    },
    {
      "cell_type": "markdown",
      "source": [
        "<p align=\"justify\"> 4.2) Declare o modelo em E.E não linear, em Python, utilizando o comando $def$."
      ],
      "metadata": {
        "id": "41ekwCgpiFyh"
      }
    },
    {
      "cell_type": "code",
      "source": [
        "def VanderPol(y,t,k,eps,m):\n",
        "  x1,x2 =y\n",
        "  dx1dt=x2\n",
        "  dx2dt=(-k*(x1)-2*eps*(x1**2-1)*x2)/m\n",
        "  return [dx1dt,dx2dt]"
      ],
      "metadata": {
        "id": "d_WMOoM3h2Ce"
      },
      "execution_count": null,
      "outputs": []
    },
    {
      "cell_type": "markdown",
      "source": [
        "<a name=\"ex5\"></a>\n",
        "## **Exercício 5**\n",
        "\n",
        "<p align=\"justify\"> Considere a equação não linear que descreve o movimento do pêndulo simples:\n",
        "\n",
        "$$ \\ddot{\\theta} +\\frac{g}{\\ell} sen(\\theta)=0,$$\n",
        "\n",
        "<p align=\"justify\"> em que $\\ell$ representa o comprimento  da haste do pêndulo e $g$ é a aceleração da gravidade. A partir da equação do movimento, declare em Python a representação em E.E equivalente.\n",
        "\n",
        "<center>   \n",
        "<p align=\"center\">\n",
        "<img src=\"https://github.com/Anny-Verly/Projeto-Python-MASL/blob/main/Imagens_Caderno_2/Figura%20C2.3.png?raw=true\"\n",
        "width=\"300\" height=\"\" style=\"display: block; margin: 0 auto\" />\n",
        "</p>  Figura C2.3: Representação de um pêndulo simples. </center>"
      ],
      "metadata": {
        "id": "z3z28IzOY4Kg"
      }
    },
    {
      "cell_type": "markdown",
      "source": [
        "<p align=\"justify\"> $\\textbf{Resposta}$: Se $x_1(t)=\\theta(t)$ e $x_2(t)=\\dot{\\theta}(t)$, então:\n",
        "\n",
        "$\\dot{x}_{1}(t)=x_2(t)$\n",
        "\n",
        "$\\dot{x}_{2}(t)= -\\frac{g}{\\ell}sen(x_1(t)) $."
      ],
      "metadata": {
        "id": "ma6TZNPEarE6"
      }
    },
    {
      "cell_type": "code",
      "source": [
        "import math\n",
        "def VanderPol(y,t,g,ell):\n",
        "  x1,x2 =y\n",
        "  dx1dt=x2\n",
        "  dx2dt=-g/ell*math.sin(x1)\n",
        "  return [dx1dt,dx2dt]"
      ],
      "metadata": {
        "id": "1RccGzD1bUWp"
      },
      "execution_count": null,
      "outputs": []
    },
    {
      "cell_type": "markdown",
      "source": [
        "**Exercício Proposto 3.1:**\n",
        "\n",
        "Considere o circuito de um filtro passa faixa mostrado na Figura 19\n",
        "Onde, $R_1 = 100Ω, R_2 = 1000Ω, C_1 = 3.10^{−6}F, C_2 = 1.10^{-6}F$.\n",
        "\n",
        "Determine:\n",
        "\n",
        "a) A Função de Transferência e o modelo em Espaço de Estados do circuito.\n",
        "\n",
        "b) As respostas ao impulso e degrau utilizando a FT.\n",
        "\n",
        "c) As respostas ao impulso e degrau utilizando o modelo em EE.\n",
        "\n",
        "d) Compare os resultados das letras b e c.\n",
        "\n",
        "\n",
        "**Exercício Proposto 3.3:**\n",
        "\n",
        "Considere novamente a FT representada pela [Equação 3.16](#316). Realize a realimentação\n",
        "unitária deste sistema e repita as letras a e b do [Exemplo 3.5](#ex35). Houve alguma diferença? Discuta os resultados obtidos.\n",
        "\n",
        "**Exercício Proposto 3.4:**\n",
        "\n",
        "Utilize as referências [[2]](#ref2), [[1]](#ref1) ou [[8]](#ref8) para estudar sobre a resposta de sistemas decontrole com polos adicionais.\n",
        "\n",
        "\n",
        "**Exercício Proposto 3.2:**\n",
        "\n",
        "Considere um sistema de controle representado pela [Equação 3.10](#eq310).\n",
        "\n",
        "a) Com $𝜔_n$ = 2, plote a resposta ao degrau do sistema para cinco valores de ζ\n",
        "compreendidos na região subamortecida. Utilize uma única tela e observe os resultados.\n",
        "\n",
        "b) Com ζ = 0.8, plote a resposta ao degrau do sistema para $𝜔_n$ = 2, 4, 6, 8 e 10.\n",
        "\n",
        "Utilize uma única tela e observe os resultados.\n",
        "\n",
        "c) Com wn = 2, escolha um valor de ζ para cada um dos formatos de resposta\n",
        "citados anteriormente. Utilize o subplot para plotar cada tipo de resposta em um gráfico diferente. Discuta os resultados."
      ],
      "metadata": {
        "id": "N3060b1-iXW4"
      }
    }
  ]
}